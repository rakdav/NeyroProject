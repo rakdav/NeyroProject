{
 "cells": [
  {
   "metadata": {},
   "cell_type": "markdown",
   "source": "",
   "id": "d8f22a1c77667346"
  },
  {
   "metadata": {},
   "cell_type": "markdown",
   "source": "",
   "id": "d326d2c37acf2c1a"
  },
  {
   "metadata": {
    "ExecuteTime": {
     "end_time": "2025-02-07T09:41:12.714891Z",
     "start_time": "2025-02-07T09:41:12.710167Z"
    }
   },
   "cell_type": "code",
   "source": [
    "from keras import datasets, models, layers, utils, Sequential\n",
    "import numpy as np\n",
    "from keras.src.layers import Dense\n",
    "from keras_tuner.tuners import RandomSearch,Hyperband,BayesianOptimization"
   ],
   "id": "b6cb856144b98565",
   "outputs": [],
   "execution_count": 12
  },
  {
   "metadata": {
    "ExecuteTime": {
     "end_time": "2025-02-07T09:41:14.519365Z",
     "start_time": "2025-02-07T09:41:14.165374Z"
    }
   },
   "cell_type": "code",
   "source": "(x_train, y_train), (x_test, y_test) = datasets.fashion_mnist.load_data()",
   "id": "fa039f776895b508",
   "outputs": [],
   "execution_count": 13
  },
  {
   "metadata": {
    "ExecuteTime": {
     "end_time": "2025-02-07T09:41:15.570524Z",
     "start_time": "2025-02-07T09:41:15.411772Z"
    }
   },
   "cell_type": "code",
   "source": [
    "x_train=x_train.reshape(60000,784)\n",
    "x_test=x_test.reshape(10000, 784)\n",
    "x_train=x_train/255\n",
    "x_test=x_test/255\n",
    "y_train=utils.to_categorical(y_train,10)\n",
    "y_test=utils.to_categorical(y_test,10)"
   ],
   "id": "a58e91418808766e",
   "outputs": [],
   "execution_count": 14
  },
  {
   "metadata": {
    "ExecuteTime": {
     "end_time": "2025-02-07T09:41:17.205647Z",
     "start_time": "2025-02-07T09:41:17.195816Z"
    }
   },
   "cell_type": "code",
   "source": [
    "def build_model(hp):\n",
    "    model = Sequential()\n",
    "    activation_choice=hp.Choice('activation_choice',['relu','sigmoid','tanh','elu','selu'])\n",
    "    model.add(Dense(units=hp.Int('units_input', min_value=512, max_value=1024, step=32), activation=activation_choice,input_dim=784))\n",
    "    model.add(Dense(units=hp.Int('units_hidden',min_value=128, max_value=600, step=32), activation=activation_choice))\n",
    "    model.add(Dense(10, activation='softmax'))\n",
    "    model.compile(loss='categorical_crossentropy', \n",
    "                  optimizer=hp.Choice('optimizer',values=['adam','rmsprop','SGD']), metrics=['accuracy'])\n",
    "    return model"
   ],
   "id": "d5047e40091a5fe1",
   "outputs": [],
   "execution_count": 15
  },
  {
   "metadata": {
    "ExecuteTime": {
     "end_time": "2025-02-07T09:41:19.147921Z",
     "start_time": "2025-02-07T09:41:19.079459Z"
    }
   },
   "cell_type": "code",
   "source": [
    "tuner=RandomSearch(build_model,objective='val_accuracy',max_trials=80,directory='test_directory')\n",
    "tuner.search_space_summary()"
   ],
   "id": "f04991495a642480",
   "outputs": [
    {
     "name": "stdout",
     "output_type": "stream",
     "text": [
      "Search space summary\n",
      "Default search space size: 4\n",
      "activation_choice (Choice)\n",
      "{'default': 'relu', 'conditions': [], 'values': ['relu', 'sigmoid', 'tanh', 'elu', 'selu'], 'ordered': False}\n",
      "units_input (Int)\n",
      "{'default': None, 'conditions': [], 'min_value': 512, 'max_value': 1024, 'step': 32, 'sampling': 'linear'}\n",
      "units_hidden (Int)\n",
      "{'default': None, 'conditions': [], 'min_value': 128, 'max_value': 600, 'step': 32, 'sampling': 'linear'}\n",
      "optimizer (Choice)\n",
      "{'default': 'adam', 'conditions': [], 'values': ['adam', 'rmsprop', 'SGD'], 'ordered': False}\n"
     ]
    },
    {
     "name": "stderr",
     "output_type": "stream",
     "text": [
      "C:\\Users\\administrator\\tensorflow\\pythonProject1\\.venv\\Lib\\site-packages\\keras\\src\\layers\\core\\dense.py:87: UserWarning: Do not pass an `input_shape`/`input_dim` argument to a layer. When using Sequential models, prefer using an `Input(shape)` object as the first layer in the model instead.\n",
      "  super().__init__(activity_regularizer=activity_regularizer, **kwargs)\n"
     ]
    }
   ],
   "execution_count": 16
  },
  {
   "metadata": {
    "jupyter": {
     "is_executing": true
    }
   },
   "cell_type": "code",
   "source": "tuner.search(x_train,y_train,batch_size=256,epochs=20,validation_split=0.2)",
   "id": "f2d7b08205bec575",
   "execution_count": null,
   "outputs": [
    {
     "name": "stdout",
     "output_type": "stream",
     "text": [
      "Trial 2 Complete [00h 01m 19s]\n",
      "val_accuracy: 0.8812500238418579\n",
      "\n",
      "Best val_accuracy So Far: 0.8980000019073486\n",
      "Total elapsed time: 00h 02m 27s\n",
      "\n",
      "Search: Running Trial #3\n",
      "\n",
      "Value             |Best Value So Far |Hyperparameter\n",
      "tanh              |relu              |activation_choice\n",
      "1024              |640               |units_input\n",
      "384               |352               |units_hidden\n",
      "adam              |adam              |optimizer\n",
      "\n",
      "Epoch 1/20\n",
      "\u001B[1m188/188\u001B[0m \u001B[32m━━━━━━━━━━━━━━━━━━━━\u001B[0m\u001B[37m\u001B[0m \u001B[1m6s\u001B[0m 24ms/step - accuracy: 0.7146 - loss: 0.8143 - val_accuracy: 0.8523 - val_loss: 0.4161\n",
      "Epoch 2/20\n",
      "\u001B[1m188/188\u001B[0m \u001B[32m━━━━━━━━━━━━━━━━━━━━\u001B[0m\u001B[37m\u001B[0m \u001B[1m4s\u001B[0m 22ms/step - accuracy: 0.8569 - loss: 0.3972 - val_accuracy: 0.8555 - val_loss: 0.4002\n",
      "Epoch 3/20\n",
      "\u001B[1m188/188\u001B[0m \u001B[32m━━━━━━━━━━━━━━━━━━━━\u001B[0m\u001B[37m\u001B[0m \u001B[1m4s\u001B[0m 23ms/step - accuracy: 0.8698 - loss: 0.3550 - val_accuracy: 0.8705 - val_loss: 0.3586\n",
      "Epoch 4/20\n",
      "\u001B[1m188/188\u001B[0m \u001B[32m━━━━━━━━━━━━━━━━━━━━\u001B[0m\u001B[37m\u001B[0m \u001B[1m5s\u001B[0m 26ms/step - accuracy: 0.8832 - loss: 0.3197 - val_accuracy: 0.8703 - val_loss: 0.3495\n",
      "Epoch 5/20\n",
      "\u001B[1m188/188\u001B[0m \u001B[32m━━━━━━━━━━━━━━━━━━━━\u001B[0m\u001B[37m\u001B[0m \u001B[1m5s\u001B[0m 29ms/step - accuracy: 0.8862 - loss: 0.3057 - val_accuracy: 0.8797 - val_loss: 0.3218\n",
      "Epoch 6/20\n",
      "\u001B[1m188/188\u001B[0m \u001B[32m━━━━━━━━━━━━━━━━━━━━\u001B[0m\u001B[37m\u001B[0m \u001B[1m5s\u001B[0m 25ms/step - accuracy: 0.8982 - loss: 0.2743 - val_accuracy: 0.8827 - val_loss: 0.3183\n",
      "Epoch 7/20\n",
      "\u001B[1m188/188\u001B[0m \u001B[32m━━━━━━━━━━━━━━━━━━━━\u001B[0m\u001B[37m\u001B[0m \u001B[1m5s\u001B[0m 26ms/step - accuracy: 0.9008 - loss: 0.2649 - val_accuracy: 0.8812 - val_loss: 0.3268\n",
      "Epoch 8/20\n",
      "\u001B[1m 46/188\u001B[0m \u001B[32m━━━━\u001B[0m\u001B[37m━━━━━━━━━━━━━━━━\u001B[0m \u001B[1m2s\u001B[0m 20ms/step - accuracy: 0.9053 - loss: 0.2543"
     ]
    }
   ]
  }
 ],
 "metadata": {
  "kernelspec": {
   "display_name": "Python 3",
   "language": "python",
   "name": "python3"
  },
  "language_info": {
   "codemirror_mode": {
    "name": "ipython",
    "version": 2
   },
   "file_extension": ".py",
   "mimetype": "text/x-python",
   "name": "python",
   "nbconvert_exporter": "python",
   "pygments_lexer": "ipython2",
   "version": "2.7.6"
  }
 },
 "nbformat": 4,
 "nbformat_minor": 5
}
