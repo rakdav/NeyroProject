{
 "cells": [
  {
   "metadata": {},
   "cell_type": "markdown",
   "source": "",
   "id": "d8f22a1c77667346"
  },
  {
   "metadata": {},
   "cell_type": "markdown",
   "source": "",
   "id": "d326d2c37acf2c1a"
  },
  {
   "metadata": {
    "ExecuteTime": {
     "end_time": "2025-02-07T09:41:12.714891Z",
     "start_time": "2025-02-07T09:41:12.710167Z"
    }
   },
   "cell_type": "code",
   "source": [
    "from keras import datasets, models, layers, utils, Sequential\n",
    "import numpy as np\n",
    "from keras.src.layers import Dense\n",
    "from keras_tuner.tuners import RandomSearch,Hyperband,BayesianOptimization"
   ],
   "id": "b6cb856144b98565",
   "outputs": [],
   "execution_count": 12
  },
  {
   "metadata": {
    "ExecuteTime": {
     "end_time": "2025-02-07T09:41:14.519365Z",
     "start_time": "2025-02-07T09:41:14.165374Z"
    }
   },
   "cell_type": "code",
   "source": "(x_train, y_train), (x_test, y_test) = datasets.fashion_mnist.load_data()",
   "id": "fa039f776895b508",
   "outputs": [],
   "execution_count": 13
  },
  {
   "metadata": {
    "ExecuteTime": {
     "end_time": "2025-02-07T09:41:15.570524Z",
     "start_time": "2025-02-07T09:41:15.411772Z"
    }
   },
   "cell_type": "code",
   "source": [
    "x_train=x_train.reshape(60000,784)\n",
    "x_test=x_test.reshape(10000, 784)\n",
    "x_train=x_train/255\n",
    "x_test=x_test/255\n",
    "y_train=utils.to_categorical(y_train,10)\n",
    "y_test=utils.to_categorical(y_test,10)"
   ],
   "id": "a58e91418808766e",
   "outputs": [],
   "execution_count": 14
  },
  {
   "metadata": {
    "ExecuteTime": {
     "end_time": "2025-02-07T09:41:17.205647Z",
     "start_time": "2025-02-07T09:41:17.195816Z"
    }
   },
   "cell_type": "code",
   "source": [
    "def build_model(hp):\n",
    "    model = Sequential()\n",
    "    activation_choice=hp.Choice('activation_choice',['relu','sigmoid','tanh','elu','selu'])\n",
    "    model.add(Dense(units=hp.Int('units_input', min_value=512, max_value=1024, step=32), activation=activation_choice,input_dim=784))\n",
    "    model.add(Dense(units=hp.Int('units_hidden',min_value=128, max_value=600, step=32), activation=activation_choice))\n",
    "    model.add(Dense(10, activation='softmax'))\n",
    "    model.compile(loss='categorical_crossentropy', \n",
    "                  optimizer=hp.Choice('optimizer',values=['adam','rmsprop','SGD']), metrics=['accuracy'])\n",
    "    return model"
   ],
   "id": "d5047e40091a5fe1",
   "outputs": [],
   "execution_count": 15
  },
  {
   "metadata": {
    "ExecuteTime": {
     "end_time": "2025-02-07T09:41:19.147921Z",
     "start_time": "2025-02-07T09:41:19.079459Z"
    }
   },
   "cell_type": "code",
   "source": [
    "tuner=RandomSearch(build_model,objective='val_accuracy',max_trials=80,directory='test_directory')\n",
    "tuner.search_space_summary()"
   ],
   "id": "f04991495a642480",
   "outputs": [
    {
     "name": "stdout",
     "output_type": "stream",
     "text": [
      "Search space summary\n",
      "Default search space size: 4\n",
      "activation_choice (Choice)\n",
      "{'default': 'relu', 'conditions': [], 'values': ['relu', 'sigmoid', 'tanh', 'elu', 'selu'], 'ordered': False}\n",
      "units_input (Int)\n",
      "{'default': None, 'conditions': [], 'min_value': 512, 'max_value': 1024, 'step': 32, 'sampling': 'linear'}\n",
      "units_hidden (Int)\n",
      "{'default': None, 'conditions': [], 'min_value': 128, 'max_value': 600, 'step': 32, 'sampling': 'linear'}\n",
      "optimizer (Choice)\n",
      "{'default': 'adam', 'conditions': [], 'values': ['adam', 'rmsprop', 'SGD'], 'ordered': False}\n"
     ]
    },
    {
     "name": "stderr",
     "output_type": "stream",
     "text": [
      "C:\\Users\\administrator\\tensorflow\\pythonProject1\\.venv\\Lib\\site-packages\\keras\\src\\layers\\core\\dense.py:87: UserWarning: Do not pass an `input_shape`/`input_dim` argument to a layer. When using Sequential models, prefer using an `Input(shape)` object as the first layer in the model instead.\n",
      "  super().__init__(activity_regularizer=activity_regularizer, **kwargs)\n"
     ]
    }
   ],
   "execution_count": 16
  },
  {
   "metadata": {
    "jupyter": {
     "is_executing": true
    }
   },
   "cell_type": "code",
   "source": "tuner.search(x_train,y_train,batch_size=256,epochs=20,validation_split=0.2)",
   "id": "f2d7b08205bec575",
   "execution_count": null,
   "outputs": [
    {
     "name": "stdout",
     "output_type": "stream",
     "text": [
      "Trial 65 Complete [00h 00m 45s]\n",
      "val_accuracy: 0.8565833568572998\n",
      "\n",
      "Best val_accuracy So Far: 0.8989999890327454\n",
      "Total elapsed time: 01h 06m 08s\n",
      "\n",
      "Search: Running Trial #66\n",
      "\n",
      "Value             |Best Value So Far |Hyperparameter\n",
      "relu              |relu              |activation_choice\n",
      "960               |768               |units_input\n",
      "512               |192               |units_hidden\n",
      "rmsprop           |adam              |optimizer\n",
      "\n",
      "Epoch 1/20\n",
      "\u001B[1m188/188\u001B[0m \u001B[32m━━━━━━━━━━━━━━━━━━━━\u001B[0m\u001B[37m\u001B[0m \u001B[1m6s\u001B[0m 27ms/step - accuracy: 0.6704 - loss: 0.9541 - val_accuracy: 0.8113 - val_loss: 0.5293\n",
      "Epoch 2/20\n",
      "\u001B[1m188/188\u001B[0m \u001B[32m━━━━━━━━━━━━━━━━━━━━\u001B[0m\u001B[37m\u001B[0m \u001B[1m4s\u001B[0m 23ms/step - accuracy: 0.8348 - loss: 0.4512 - val_accuracy: 0.8561 - val_loss: 0.3898\n",
      "Epoch 3/20\n",
      "\u001B[1m188/188\u001B[0m \u001B[32m━━━━━━━━━━━━━━━━━━━━\u001B[0m\u001B[37m\u001B[0m \u001B[1m5s\u001B[0m 26ms/step - accuracy: 0.8562 - loss: 0.3819 - val_accuracy: 0.8662 - val_loss: 0.3659\n",
      "Epoch 4/20\n",
      "\u001B[1m188/188\u001B[0m \u001B[32m━━━━━━━━━━━━━━━━━━━━\u001B[0m\u001B[37m\u001B[0m \u001B[1m5s\u001B[0m 26ms/step - accuracy: 0.8723 - loss: 0.3341 - val_accuracy: 0.8695 - val_loss: 0.3583\n",
      "Epoch 5/20\n",
      "\u001B[1m188/188\u001B[0m \u001B[32m━━━━━━━━━━━━━━━━━━━━\u001B[0m\u001B[37m\u001B[0m \u001B[1m4s\u001B[0m 22ms/step - accuracy: 0.8826 - loss: 0.3134 - val_accuracy: 0.8827 - val_loss: 0.3273\n",
      "Epoch 6/20\n",
      "\u001B[1m188/188\u001B[0m \u001B[32m━━━━━━━━━━━━━━━━━━━━\u001B[0m\u001B[37m\u001B[0m \u001B[1m5s\u001B[0m 26ms/step - accuracy: 0.8898 - loss: 0.2927 - val_accuracy: 0.8598 - val_loss: 0.3798\n",
      "Epoch 7/20\n",
      "\u001B[1m188/188\u001B[0m \u001B[32m━━━━━━━━━━━━━━━━━━━━\u001B[0m\u001B[37m\u001B[0m \u001B[1m4s\u001B[0m 22ms/step - accuracy: 0.8942 - loss: 0.2806 - val_accuracy: 0.8759 - val_loss: 0.3469\n",
      "Epoch 8/20\n",
      "\u001B[1m188/188\u001B[0m \u001B[32m━━━━━━━━━━━━━━━━━━━━\u001B[0m\u001B[37m\u001B[0m \u001B[1m4s\u001B[0m 22ms/step - accuracy: 0.9015 - loss: 0.2600 - val_accuracy: 0.8585 - val_loss: 0.3710\n",
      "Epoch 9/20\n",
      "\u001B[1m188/188\u001B[0m \u001B[32m━━━━━━━━━━━━━━━━━━━━\u001B[0m\u001B[37m\u001B[0m \u001B[1m5s\u001B[0m 24ms/step - accuracy: 0.9083 - loss: 0.2391 - val_accuracy: 0.8848 - val_loss: 0.3220\n",
      "Epoch 10/20\n",
      "\u001B[1m132/188\u001B[0m \u001B[32m━━━━━━━━━━━━━━\u001B[0m\u001B[37m━━━━━━\u001B[0m \u001B[1m1s\u001B[0m 23ms/step - accuracy: 0.9098 - loss: 0.2363"
     ]
    }
   ]
  },
  {
   "metadata": {},
   "cell_type": "code",
   "outputs": [],
   "execution_count": null,
   "source": "tuner.results_summary()",
   "id": "283fe07ff5f2a022"
  },
  {
   "metadata": {},
   "cell_type": "code",
   "outputs": [],
   "execution_count": null,
   "source": [
    "models=tuner.get_best_models(num_models=3)\n",
    "for model in models:\n",
    "    model.summary()\n",
    "    model.evaluate(x_test,y_test)\n",
    "    print()"
   ],
   "id": "5b5eaa6d3eeea96e"
  }
 ],
 "metadata": {
  "kernelspec": {
   "display_name": "Python 3",
   "language": "python",
   "name": "python3"
  },
  "language_info": {
   "codemirror_mode": {
    "name": "ipython",
    "version": 2
   },
   "file_extension": ".py",
   "mimetype": "text/x-python",
   "name": "python",
   "nbconvert_exporter": "python",
   "pygments_lexer": "ipython2",
   "version": "2.7.6"
  }
 },
 "nbformat": 4,
 "nbformat_minor": 5
}
