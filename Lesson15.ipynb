{
 "cells": [
  {
   "cell_type": "code",
   "id": "initial_id",
   "metadata": {
    "collapsed": true,
    "ExecuteTime": {
     "end_time": "2025-02-10T09:07:29.187568Z",
     "start_time": "2025-02-10T09:07:29.162879Z"
    }
   },
   "source": [
    "from keras import datasets,Sequential,layers\n",
    "from keras.src.layers import Dense"
   ],
   "outputs": [],
   "execution_count": 6
  },
  {
   "metadata": {
    "ExecuteTime": {
     "end_time": "2025-02-10T09:07:30.865973Z",
     "start_time": "2025-02-10T09:07:30.830827Z"
    }
   },
   "cell_type": "code",
   "source": "(x_train, y_train), (x_test, y_test) = datasets.boston_housing.load_data()",
   "id": "9136a21b1a3f5840",
   "outputs": [],
   "execution_count": 7
  },
  {
   "metadata": {
    "ExecuteTime": {
     "end_time": "2025-02-10T09:07:32.082851Z",
     "start_time": "2025-02-10T09:07:32.074844Z"
    }
   },
   "cell_type": "code",
   "source": [
    "print(x_train[4])\n",
    "print(y_train[4])"
   ],
   "id": "e0b38b0f4ddc83ac",
   "outputs": [
    {
     "name": "stdout",
     "output_type": "stream",
     "text": [
      "[  3.69311   0.       18.1       0.        0.713     6.376    88.4\n",
      "   2.5671   24.      666.       20.2     391.43     14.65   ]\n",
      "17.7\n"
     ]
    }
   ],
   "execution_count": 8
  },
  {
   "metadata": {
    "ExecuteTime": {
     "end_time": "2025-02-10T09:07:34.770064Z",
     "start_time": "2025-02-10T09:07:34.761689Z"
    }
   },
   "cell_type": "code",
   "source": [
    "mean=x_train.mean(axis=0)\n",
    "std=x_train.std(axis=0)\n",
    "x_train-=mean\n",
    "x_train/=std\n",
    "x_test-=mean\n",
    "x_test/=std"
   ],
   "id": "2d465ac25d8c521c",
   "outputs": [],
   "execution_count": 9
  },
  {
   "metadata": {
    "ExecuteTime": {
     "end_time": "2025-02-10T09:07:36.409566Z",
     "start_time": "2025-02-10T09:07:36.331320Z"
    }
   },
   "cell_type": "code",
   "source": [
    "model=Sequential()\n",
    "model.add(Dense(128,activation='relu',input_shape=(x_train.shape[1],)))\n",
    "model.add(Dense(1))\n",
    "print(model.summary())"
   ],
   "id": "64a2f46e6811fd4a",
   "outputs": [
    {
     "data": {
      "text/plain": [
       "\u001B[1mModel: \"sequential_1\"\u001B[0m\n"
      ],
      "text/html": [
       "<pre style=\"white-space:pre;overflow-x:auto;line-height:normal;font-family:Menlo,'DejaVu Sans Mono',consolas,'Courier New',monospace\"><span style=\"font-weight: bold\">Model: \"sequential_1\"</span>\n",
       "</pre>\n"
      ]
     },
     "metadata": {},
     "output_type": "display_data"
    },
    {
     "data": {
      "text/plain": [
       "┏━━━━━━━━━━━━━━━━━━━━━━━━━━━━━━━━━┳━━━━━━━━━━━━━━━━━━━━━━━━┳━━━━━━━━━━━━━━━┓\n",
       "┃\u001B[1m \u001B[0m\u001B[1mLayer (type)                   \u001B[0m\u001B[1m \u001B[0m┃\u001B[1m \u001B[0m\u001B[1mOutput Shape          \u001B[0m\u001B[1m \u001B[0m┃\u001B[1m \u001B[0m\u001B[1m      Param #\u001B[0m\u001B[1m \u001B[0m┃\n",
       "┡━━━━━━━━━━━━━━━━━━━━━━━━━━━━━━━━━╇━━━━━━━━━━━━━━━━━━━━━━━━╇━━━━━━━━━━━━━━━┩\n",
       "│ dense_2 (\u001B[38;5;33mDense\u001B[0m)                 │ (\u001B[38;5;45mNone\u001B[0m, \u001B[38;5;34m128\u001B[0m)            │         \u001B[38;5;34m1,792\u001B[0m │\n",
       "├─────────────────────────────────┼────────────────────────┼───────────────┤\n",
       "│ dense_3 (\u001B[38;5;33mDense\u001B[0m)                 │ (\u001B[38;5;45mNone\u001B[0m, \u001B[38;5;34m1\u001B[0m)              │           \u001B[38;5;34m129\u001B[0m │\n",
       "└─────────────────────────────────┴────────────────────────┴───────────────┘\n"
      ],
      "text/html": [
       "<pre style=\"white-space:pre;overflow-x:auto;line-height:normal;font-family:Menlo,'DejaVu Sans Mono',consolas,'Courier New',monospace\">┏━━━━━━━━━━━━━━━━━━━━━━━━━━━━━━━━━┳━━━━━━━━━━━━━━━━━━━━━━━━┳━━━━━━━━━━━━━━━┓\n",
       "┃<span style=\"font-weight: bold\"> Layer (type)                    </span>┃<span style=\"font-weight: bold\"> Output Shape           </span>┃<span style=\"font-weight: bold\">       Param # </span>┃\n",
       "┡━━━━━━━━━━━━━━━━━━━━━━━━━━━━━━━━━╇━━━━━━━━━━━━━━━━━━━━━━━━╇━━━━━━━━━━━━━━━┩\n",
       "│ dense_2 (<span style=\"color: #0087ff; text-decoration-color: #0087ff\">Dense</span>)                 │ (<span style=\"color: #00d7ff; text-decoration-color: #00d7ff\">None</span>, <span style=\"color: #00af00; text-decoration-color: #00af00\">128</span>)            │         <span style=\"color: #00af00; text-decoration-color: #00af00\">1,792</span> │\n",
       "├─────────────────────────────────┼────────────────────────┼───────────────┤\n",
       "│ dense_3 (<span style=\"color: #0087ff; text-decoration-color: #0087ff\">Dense</span>)                 │ (<span style=\"color: #00d7ff; text-decoration-color: #00d7ff\">None</span>, <span style=\"color: #00af00; text-decoration-color: #00af00\">1</span>)              │           <span style=\"color: #00af00; text-decoration-color: #00af00\">129</span> │\n",
       "└─────────────────────────────────┴────────────────────────┴───────────────┘\n",
       "</pre>\n"
      ]
     },
     "metadata": {},
     "output_type": "display_data"
    },
    {
     "data": {
      "text/plain": [
       "\u001B[1m Total params: \u001B[0m\u001B[38;5;34m1,921\u001B[0m (7.50 KB)\n"
      ],
      "text/html": [
       "<pre style=\"white-space:pre;overflow-x:auto;line-height:normal;font-family:Menlo,'DejaVu Sans Mono',consolas,'Courier New',monospace\"><span style=\"font-weight: bold\"> Total params: </span><span style=\"color: #00af00; text-decoration-color: #00af00\">1,921</span> (7.50 KB)\n",
       "</pre>\n"
      ]
     },
     "metadata": {},
     "output_type": "display_data"
    },
    {
     "data": {
      "text/plain": [
       "\u001B[1m Trainable params: \u001B[0m\u001B[38;5;34m1,921\u001B[0m (7.50 KB)\n"
      ],
      "text/html": [
       "<pre style=\"white-space:pre;overflow-x:auto;line-height:normal;font-family:Menlo,'DejaVu Sans Mono',consolas,'Courier New',monospace\"><span style=\"font-weight: bold\"> Trainable params: </span><span style=\"color: #00af00; text-decoration-color: #00af00\">1,921</span> (7.50 KB)\n",
       "</pre>\n"
      ]
     },
     "metadata": {},
     "output_type": "display_data"
    },
    {
     "data": {
      "text/plain": [
       "\u001B[1m Non-trainable params: \u001B[0m\u001B[38;5;34m0\u001B[0m (0.00 B)\n"
      ],
      "text/html": [
       "<pre style=\"white-space:pre;overflow-x:auto;line-height:normal;font-family:Menlo,'DejaVu Sans Mono',consolas,'Courier New',monospace\"><span style=\"font-weight: bold\"> Non-trainable params: </span><span style=\"color: #00af00; text-decoration-color: #00af00\">0</span> (0.00 B)\n",
       "</pre>\n"
      ]
     },
     "metadata": {},
     "output_type": "display_data"
    },
    {
     "name": "stdout",
     "output_type": "stream",
     "text": [
      "None\n"
     ]
    }
   ],
   "execution_count": 10
  },
  {
   "metadata": {
    "ExecuteTime": {
     "end_time": "2025-02-10T09:08:22.261731Z",
     "start_time": "2025-02-10T09:08:22.243132Z"
    }
   },
   "cell_type": "code",
   "source": "model.compile(loss='mse',optimizer='adam',metrics=['mae'])",
   "id": "5f2e35b587485a62",
   "outputs": [],
   "execution_count": 11
  },
  {
   "metadata": {
    "ExecuteTime": {
     "end_time": "2025-02-10T09:10:24.144569Z",
     "start_time": "2025-02-10T09:09:31.587866Z"
    }
   },
   "cell_type": "code",
   "source": "model.fit(x_train,y_train,epochs=100,batch_size=1,verbose=2)",
   "id": "efda4371bfd843fb",
   "outputs": [
    {
     "name": "stdout",
     "output_type": "stream",
     "text": [
      "Epoch 1/100\n",
      "404/404 - 1s - 4ms/step - loss: 296.2916 - mae: 14.3418\n",
      "Epoch 2/100\n",
      "404/404 - 0s - 1ms/step - loss: 38.9002 - mae: 4.2130\n",
      "Epoch 3/100\n",
      "404/404 - 1s - 1ms/step - loss: 24.9604 - mae: 3.4203\n",
      "Epoch 4/100\n",
      "404/404 - 1s - 1ms/step - loss: 20.7197 - mae: 3.2637\n",
      "Epoch 5/100\n",
      "404/404 - 1s - 1ms/step - loss: 18.0416 - mae: 3.0441\n",
      "Epoch 6/100\n",
      "404/404 - 0s - 1ms/step - loss: 16.2096 - mae: 2.8585\n",
      "Epoch 7/100\n",
      "404/404 - 1s - 1ms/step - loss: 13.7046 - mae: 2.6412\n",
      "Epoch 8/100\n",
      "404/404 - 1s - 1ms/step - loss: 12.4129 - mae: 2.5072\n",
      "Epoch 9/100\n",
      "404/404 - 1s - 1ms/step - loss: 11.2348 - mae: 2.3374\n",
      "Epoch 10/100\n",
      "404/404 - 1s - 1ms/step - loss: 10.7219 - mae: 2.3113\n",
      "Epoch 11/100\n",
      "404/404 - 1s - 1ms/step - loss: 10.3204 - mae: 2.2632\n",
      "Epoch 12/100\n",
      "404/404 - 0s - 1ms/step - loss: 9.6213 - mae: 2.2387\n",
      "Epoch 13/100\n",
      "404/404 - 0s - 1ms/step - loss: 9.5680 - mae: 2.1941\n",
      "Epoch 14/100\n",
      "404/404 - 1s - 1ms/step - loss: 9.2928 - mae: 2.1394\n",
      "Epoch 15/100\n",
      "404/404 - 1s - 1ms/step - loss: 8.9180 - mae: 2.0749\n",
      "Epoch 16/100\n",
      "404/404 - 0s - 1ms/step - loss: 8.6485 - mae: 2.1216\n",
      "Epoch 17/100\n",
      "404/404 - 1s - 1ms/step - loss: 8.8297 - mae: 2.1412\n",
      "Epoch 18/100\n",
      "404/404 - 0s - 1ms/step - loss: 8.0429 - mae: 1.9971\n",
      "Epoch 19/100\n",
      "404/404 - 1s - 1ms/step - loss: 8.1128 - mae: 2.0264\n",
      "Epoch 20/100\n",
      "404/404 - 0s - 1ms/step - loss: 7.9795 - mae: 1.9976\n",
      "Epoch 21/100\n",
      "404/404 - 1s - 1ms/step - loss: 8.0861 - mae: 1.9869\n",
      "Epoch 22/100\n",
      "404/404 - 1s - 1ms/step - loss: 7.6348 - mae: 1.9331\n",
      "Epoch 23/100\n",
      "404/404 - 1s - 1ms/step - loss: 7.7369 - mae: 1.9915\n",
      "Epoch 24/100\n",
      "404/404 - 1s - 1ms/step - loss: 7.7785 - mae: 1.9904\n",
      "Epoch 25/100\n",
      "404/404 - 1s - 1ms/step - loss: 7.3575 - mae: 1.9261\n",
      "Epoch 26/100\n",
      "404/404 - 1s - 1ms/step - loss: 7.4051 - mae: 1.8948\n",
      "Epoch 27/100\n",
      "404/404 - 0s - 1ms/step - loss: 7.4105 - mae: 1.9006\n",
      "Epoch 28/100\n",
      "404/404 - 1s - 1ms/step - loss: 7.0152 - mae: 1.8685\n",
      "Epoch 29/100\n",
      "404/404 - 1s - 1ms/step - loss: 7.0948 - mae: 1.8578\n",
      "Epoch 30/100\n",
      "404/404 - 1s - 1ms/step - loss: 6.7154 - mae: 1.8268\n",
      "Epoch 31/100\n",
      "404/404 - 1s - 1ms/step - loss: 6.8483 - mae: 1.8738\n",
      "Epoch 32/100\n",
      "404/404 - 0s - 1ms/step - loss: 6.8938 - mae: 1.8542\n",
      "Epoch 33/100\n",
      "404/404 - 1s - 1ms/step - loss: 6.9128 - mae: 1.8596\n",
      "Epoch 34/100\n",
      "404/404 - 0s - 1ms/step - loss: 6.6311 - mae: 1.8140\n",
      "Epoch 35/100\n",
      "404/404 - 1s - 1ms/step - loss: 6.2781 - mae: 1.7291\n",
      "Epoch 36/100\n",
      "404/404 - 1s - 1ms/step - loss: 6.5493 - mae: 1.8124\n",
      "Epoch 37/100\n",
      "404/404 - 1s - 2ms/step - loss: 6.8661 - mae: 1.8507\n",
      "Epoch 38/100\n",
      "404/404 - 1s - 1ms/step - loss: 6.4790 - mae: 1.7936\n",
      "Epoch 39/100\n",
      "404/404 - 0s - 1ms/step - loss: 6.0590 - mae: 1.7617\n",
      "Epoch 40/100\n",
      "404/404 - 1s - 1ms/step - loss: 6.4433 - mae: 1.7949\n",
      "Epoch 41/100\n",
      "404/404 - 0s - 1ms/step - loss: 6.3505 - mae: 1.7682\n",
      "Epoch 42/100\n",
      "404/404 - 1s - 1ms/step - loss: 5.9276 - mae: 1.6792\n",
      "Epoch 43/100\n",
      "404/404 - 0s - 1ms/step - loss: 6.3275 - mae: 1.8037\n",
      "Epoch 44/100\n",
      "404/404 - 1s - 1ms/step - loss: 5.9645 - mae: 1.7453\n",
      "Epoch 45/100\n",
      "404/404 - 1s - 1ms/step - loss: 6.0424 - mae: 1.7267\n",
      "Epoch 46/100\n",
      "404/404 - 1s - 1ms/step - loss: 5.8654 - mae: 1.7514\n",
      "Epoch 47/100\n",
      "404/404 - 1s - 1ms/step - loss: 5.9817 - mae: 1.7315\n",
      "Epoch 48/100\n",
      "404/404 - 0s - 1ms/step - loss: 6.0300 - mae: 1.6832\n",
      "Epoch 49/100\n",
      "404/404 - 0s - 1ms/step - loss: 5.8919 - mae: 1.7423\n",
      "Epoch 50/100\n",
      "404/404 - 0s - 1ms/step - loss: 5.7279 - mae: 1.6883\n",
      "Epoch 51/100\n",
      "404/404 - 1s - 1ms/step - loss: 5.6484 - mae: 1.6964\n",
      "Epoch 52/100\n",
      "404/404 - 1s - 1ms/step - loss: 5.8772 - mae: 1.6890\n",
      "Epoch 53/100\n",
      "404/404 - 0s - 1ms/step - loss: 5.8404 - mae: 1.7078\n",
      "Epoch 54/100\n",
      "404/404 - 1s - 1ms/step - loss: 5.8612 - mae: 1.7231\n",
      "Epoch 55/100\n",
      "404/404 - 1s - 2ms/step - loss: 5.4960 - mae: 1.6846\n",
      "Epoch 56/100\n",
      "404/404 - 1s - 1ms/step - loss: 5.5300 - mae: 1.6589\n",
      "Epoch 57/100\n",
      "404/404 - 1s - 1ms/step - loss: 5.5099 - mae: 1.6437\n",
      "Epoch 58/100\n",
      "404/404 - 0s - 1ms/step - loss: 4.9724 - mae: 1.6259\n",
      "Epoch 59/100\n",
      "404/404 - 1s - 1ms/step - loss: 5.5737 - mae: 1.6737\n",
      "Epoch 60/100\n",
      "404/404 - 1s - 1ms/step - loss: 5.3020 - mae: 1.6050\n",
      "Epoch 61/100\n",
      "404/404 - 1s - 1ms/step - loss: 5.5067 - mae: 1.6644\n",
      "Epoch 62/100\n",
      "404/404 - 1s - 1ms/step - loss: 5.3682 - mae: 1.6751\n",
      "Epoch 63/100\n",
      "404/404 - 1s - 2ms/step - loss: 5.3790 - mae: 1.6443\n",
      "Epoch 64/100\n",
      "404/404 - 1s - 1ms/step - loss: 5.3861 - mae: 1.6266\n",
      "Epoch 65/100\n",
      "404/404 - 1s - 1ms/step - loss: 5.2192 - mae: 1.6502\n",
      "Epoch 66/100\n",
      "404/404 - 1s - 1ms/step - loss: 5.0840 - mae: 1.6007\n",
      "Epoch 67/100\n",
      "404/404 - 1s - 1ms/step - loss: 5.0249 - mae: 1.5848\n",
      "Epoch 68/100\n",
      "404/404 - 1s - 1ms/step - loss: 4.7899 - mae: 1.5852\n",
      "Epoch 69/100\n",
      "404/404 - 0s - 1ms/step - loss: 5.4209 - mae: 1.6827\n",
      "Epoch 70/100\n",
      "404/404 - 0s - 1ms/step - loss: 4.9284 - mae: 1.6013\n",
      "Epoch 71/100\n",
      "404/404 - 0s - 1ms/step - loss: 5.1028 - mae: 1.6110\n",
      "Epoch 72/100\n",
      "404/404 - 1s - 2ms/step - loss: 5.0424 - mae: 1.5850\n",
      "Epoch 73/100\n",
      "404/404 - 0s - 1ms/step - loss: 4.8098 - mae: 1.5642\n",
      "Epoch 74/100\n",
      "404/404 - 1s - 1ms/step - loss: 4.9167 - mae: 1.6006\n",
      "Epoch 75/100\n",
      "404/404 - 0s - 1ms/step - loss: 4.7527 - mae: 1.5938\n",
      "Epoch 76/100\n",
      "404/404 - 0s - 1ms/step - loss: 4.8365 - mae: 1.5562\n",
      "Epoch 77/100\n",
      "404/404 - 1s - 1ms/step - loss: 4.7331 - mae: 1.5161\n",
      "Epoch 78/100\n",
      "404/404 - 1s - 1ms/step - loss: 4.8114 - mae: 1.5778\n",
      "Epoch 79/100\n",
      "404/404 - 1s - 1ms/step - loss: 4.7212 - mae: 1.5402\n",
      "Epoch 80/100\n",
      "404/404 - 1s - 1ms/step - loss: 4.5963 - mae: 1.5119\n",
      "Epoch 81/100\n",
      "404/404 - 1s - 1ms/step - loss: 4.7027 - mae: 1.5409\n",
      "Epoch 82/100\n",
      "404/404 - 0s - 1ms/step - loss: 4.5743 - mae: 1.5178\n",
      "Epoch 83/100\n",
      "404/404 - 0s - 1ms/step - loss: 4.6484 - mae: 1.5379\n",
      "Epoch 84/100\n",
      "404/404 - 1s - 1ms/step - loss: 4.6450 - mae: 1.5704\n",
      "Epoch 85/100\n",
      "404/404 - 1s - 1ms/step - loss: 4.5912 - mae: 1.5529\n",
      "Epoch 86/100\n",
      "404/404 - 1s - 1ms/step - loss: 4.5951 - mae: 1.5567\n",
      "Epoch 87/100\n",
      "404/404 - 1s - 1ms/step - loss: 4.5996 - mae: 1.5208\n",
      "Epoch 88/100\n",
      "404/404 - 1s - 1ms/step - loss: 4.3842 - mae: 1.4881\n",
      "Epoch 89/100\n",
      "404/404 - 1s - 1ms/step - loss: 4.3703 - mae: 1.5005\n",
      "Epoch 90/100\n",
      "404/404 - 1s - 1ms/step - loss: 4.4055 - mae: 1.5033\n",
      "Epoch 91/100\n",
      "404/404 - 1s - 1ms/step - loss: 4.5152 - mae: 1.4928\n",
      "Epoch 92/100\n",
      "404/404 - 1s - 1ms/step - loss: 4.4500 - mae: 1.5063\n",
      "Epoch 93/100\n",
      "404/404 - 1s - 1ms/step - loss: 4.3007 - mae: 1.4871\n",
      "Epoch 94/100\n",
      "404/404 - 1s - 2ms/step - loss: 4.2362 - mae: 1.4506\n",
      "Epoch 95/100\n",
      "404/404 - 1s - 1ms/step - loss: 4.1601 - mae: 1.4970\n",
      "Epoch 96/100\n",
      "404/404 - 1s - 1ms/step - loss: 4.4800 - mae: 1.4987\n",
      "Epoch 97/100\n",
      "404/404 - 1s - 1ms/step - loss: 4.2236 - mae: 1.4414\n",
      "Epoch 98/100\n",
      "404/404 - 1s - 1ms/step - loss: 4.1828 - mae: 1.4623\n",
      "Epoch 99/100\n",
      "404/404 - 1s - 1ms/step - loss: 4.2785 - mae: 1.4916\n",
      "Epoch 100/100\n",
      "404/404 - 1s - 1ms/step - loss: 3.9771 - mae: 1.4389\n"
     ]
    },
    {
     "data": {
      "text/plain": [
       "<keras.src.callbacks.history.History at 0x251ad6e5fa0>"
      ]
     },
     "execution_count": 12,
     "metadata": {},
     "output_type": "execute_result"
    }
   ],
   "execution_count": 12
  },
  {
   "metadata": {
    "ExecuteTime": {
     "end_time": "2025-02-10T09:10:51.353494Z",
     "start_time": "2025-02-10T09:10:51.081495Z"
    }
   },
   "cell_type": "code",
   "source": [
    "pred=model.predict(x_test)\n",
    "print(pred)"
   ],
   "id": "7c0ca8640d48219e",
   "outputs": [
    {
     "name": "stdout",
     "output_type": "stream",
     "text": [
      "\u001B[1m4/4\u001B[0m \u001B[32m━━━━━━━━━━━━━━━━━━━━\u001B[0m\u001B[37m\u001B[0m \u001B[1m0s\u001B[0m 17ms/step\n",
      "[[ 9.212181 ]\n",
      " [17.46858  ]\n",
      " [21.1511   ]\n",
      " [34.86272  ]\n",
      " [24.05873  ]\n",
      " [22.30554  ]\n",
      " [28.629019 ]\n",
      " [21.783821 ]\n",
      " [18.617613 ]\n",
      " [22.35184  ]\n",
      " [21.400032 ]\n",
      " [15.911473 ]\n",
      " [16.398033 ]\n",
      " [42.7153   ]\n",
      " [21.843624 ]\n",
      " [20.80568  ]\n",
      " [25.463991 ]\n",
      " [19.257595 ]\n",
      " [18.911379 ]\n",
      " [22.498365 ]\n",
      " [12.897322 ]\n",
      " [13.283089 ]\n",
      " [21.544275 ]\n",
      " [15.758182 ]\n",
      " [19.69036  ]\n",
      " [24.77104  ]\n",
      " [29.020437 ]\n",
      " [29.203407 ]\n",
      " [12.74476  ]\n",
      " [19.78789  ]\n",
      " [19.926855 ]\n",
      " [15.957131 ]\n",
      " [33.758717 ]\n",
      " [23.690218 ]\n",
      " [18.657503 ]\n",
      " [ 8.260358 ]\n",
      " [17.176046 ]\n",
      " [16.014608 ]\n",
      " [19.000372 ]\n",
      " [26.781967 ]\n",
      " [29.576668 ]\n",
      " [27.411722 ]\n",
      " [12.885372 ]\n",
      " [45.670593 ]\n",
      " [28.725422 ]\n",
      " [25.723915 ]\n",
      " [27.000837 ]\n",
      " [18.909475 ]\n",
      " [23.170916 ]\n",
      " [23.027552 ]\n",
      " [35.425537 ]\n",
      " [19.632742 ]\n",
      " [10.697821 ]\n",
      " [13.151787 ]\n",
      " [35.72911  ]\n",
      " [27.916435 ]\n",
      " [11.622976 ]\n",
      " [49.20941  ]\n",
      " [35.872612 ]\n",
      " [22.362902 ]\n",
      " [25.904173 ]\n",
      " [15.695866 ]\n",
      " [17.172474 ]\n",
      " [20.179308 ]\n",
      " [24.175732 ]\n",
      " [20.321108 ]\n",
      " [14.315667 ]\n",
      " [21.761267 ]\n",
      " [12.80147  ]\n",
      " [ 7.1534204]\n",
      " [20.928934 ]\n",
      " [30.81156  ]\n",
      " [25.806189 ]\n",
      " [13.363063 ]\n",
      " [25.521338 ]\n",
      " [18.591883 ]\n",
      " [19.198763 ]\n",
      " [24.833347 ]\n",
      " [36.21324  ]\n",
      " [10.147647 ]\n",
      " [21.936682 ]\n",
      " [37.62738  ]\n",
      " [15.853838 ]\n",
      " [13.127707 ]\n",
      " [17.411203 ]\n",
      " [16.901215 ]\n",
      " [23.75833  ]\n",
      " [19.871244 ]\n",
      " [21.364975 ]\n",
      " [31.001358 ]\n",
      " [20.703371 ]\n",
      " [20.292086 ]\n",
      " [26.403864 ]\n",
      " [45.666958 ]\n",
      " [37.20781  ]\n",
      " [20.674906 ]\n",
      " [34.891926 ]\n",
      " [43.24334  ]\n",
      " [25.24766  ]\n",
      " [47.915527 ]\n",
      " [30.594614 ]\n",
      " [19.772955 ]]\n"
     ]
    }
   ],
   "execution_count": 13
  },
  {
   "metadata": {
    "ExecuteTime": {
     "end_time": "2025-02-10T09:13:58.446997Z",
     "start_time": "2025-02-10T09:13:58.438220Z"
    }
   },
   "cell_type": "code",
   "source": "print(\"Предсказанная стоимость:\",pred[7][0],\" правильная стоимость:\",y_test[7])",
   "id": "4fa757a326465b30",
   "outputs": [
    {
     "name": "stdout",
     "output_type": "stream",
     "text": [
      "Предсказанная стоимость: 21.783821  правильная стоимость: 22.9\n"
     ]
    }
   ],
   "execution_count": 14
  }
 ],
 "metadata": {
  "kernelspec": {
   "display_name": "Python 3",
   "language": "python",
   "name": "python3"
  },
  "language_info": {
   "codemirror_mode": {
    "name": "ipython",
    "version": 2
   },
   "file_extension": ".py",
   "mimetype": "text/x-python",
   "name": "python",
   "nbconvert_exporter": "python",
   "pygments_lexer": "ipython2",
   "version": "2.7.6"
  }
 },
 "nbformat": 4,
 "nbformat_minor": 5
}
