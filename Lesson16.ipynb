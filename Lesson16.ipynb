{
 "cells": [
  {
   "cell_type": "code",
   "id": "initial_id",
   "metadata": {
    "collapsed": true,
    "ExecuteTime": {
     "end_time": "2025-02-10T10:21:37.706227Z",
     "start_time": "2025-02-10T10:21:37.686835Z"
    }
   },
   "source": [
    "import numpy as np\n",
    "from click.core import batch\n",
    "from keras import datasets, layers, models, utils, preprocessing, Sequential\n",
    "import matplotlib.pyplot as plt\n",
    "from keras.src.layers import Dense,Flatten,Dropout,Conv2D,MaxPooling2D\n",
    "from keras.api.preprocessing import image"
   ],
   "outputs": [],
   "execution_count": 17
  },
  {
   "metadata": {
    "ExecuteTime": {
     "end_time": "2025-02-10T10:21:42.333057Z",
     "start_time": "2025-02-10T10:21:39.873171Z"
    }
   },
   "cell_type": "code",
   "source": [
    "batch_size=128\n",
    "nb_classes=10\n",
    "nb_epoch=25\n",
    "img_rows, img_cols = 32,32\n",
    "img_channels = 3\n",
    "classes=['самолет','автомобиль','птица','кот','олень',\n",
    "         'собака','лягушка','лошадь','корабль','грузовик']\n",
    "(x_train, y_train), (x_test, y_test) = datasets.cifar10.load_data()"
   ],
   "id": "a8db20266706e857",
   "outputs": [],
   "execution_count": 18
  },
  {
   "metadata": {
    "ExecuteTime": {
     "end_time": "2025-02-10T10:21:45.796369Z",
     "start_time": "2025-02-10T10:21:45.695923Z"
    }
   },
   "cell_type": "code",
   "source": [
    "plt.imshow(x_train[1])\n",
    "plt.show()\n",
    "print(\"Номер класса:\",y_train[1])\n",
    "print(\"Тип объекта:\",classes[y_train[1][0]])"
   ],
   "id": "3a722e5710aa1964",
   "outputs": [
    {
     "data": {
      "text/plain": [
       "<Figure size 640x480 with 1 Axes>"
      ],
      "image/png": "[encoded data removed]"
     },
     "metadata": {},
     "output_type": "display_data"
    },
    {
     "name": "stdout",
     "output_type": "stream",
     "text": [
      "Номер класса: [9]\n",
      "Тип объекта: грузовик\n"
     ]
    }
   ],
   "execution_count": 19
  },
  {
   "metadata": {
    "ExecuteTime": {
     "end_time": "2025-02-10T10:21:48.406677Z",
     "start_time": "2025-02-10T10:21:48.029953Z"
    }
   },
   "cell_type": "code",
   "source": [
    "x_train=x_train.astype('float32')\n",
    "x_test=x_test.astype('float32')\n",
    "x_train /= 255\n",
    "x_test /= 255\n",
    "y_train=utils.to_categorical(y_train,nb_classes)\n",
    "y_test=utils.to_categorical(y_test,nb_classes)"
   ],
   "id": "96b1d7a6d4507abc",
   "outputs": [],
   "execution_count": 20
  },
  {
   "metadata": {
    "ExecuteTime": {
     "end_time": "2025-02-10T10:21:52.486132Z",
     "start_time": "2025-02-10T10:21:52.182889Z"
    }
   },
   "cell_type": "code",
   "source": [
    "model=Sequential()\n",
    "model.add(Conv2D(32,kernel_size=(3,3),activation='relu',padding='same',input_shape=(32,32,3)))\n",
    "model.add(Conv2D(32,kernel_size=(3,3),activation='relu',padding='same'))\n",
    "model.add(MaxPooling2D(pool_size=(2,2)))\n",
    "model.add(Dropout(0.25))\n",
    "model.add(Conv2D(64,kernel_size=(3,3),activation='relu',padding='same'))\n",
    "model.add(Conv2D(64,kernel_size=(3,3),activation='relu'))\n",
    "model.add(MaxPooling2D(pool_size=(2,2)))\n",
    "model.add(Dropout(0.25))\n",
    "model.add(Flatten())\n",
    "model.add(Dense(512,activation='relu'))\n",
    "model.add(Dropout(0.5))\n",
    "model.add(Dense(nb_classes,activation='softmax'))\n",
    "print(model.summary())"
   ],
   "id": "3e43c340bc22f0fb",
   "outputs": [
    {
     "data": {
      "text/plain": [
       "\u001B[1mModel: \"sequential_2\"\u001B[0m\n"
      ],
      "text/html": [
       "<pre style=\"white-space:pre;overflow-x:auto;line-height:normal;font-family:Menlo,'DejaVu Sans Mono',consolas,'Courier New',monospace\"><span style=\"font-weight: bold\">Model: \"sequential_2\"</span>\n",
       "</pre>\n"
      ]
     },
     "metadata": {},
     "output_type": "display_data"
    },
    {
     "data": {
      "text/plain": [
       "┏━━━━━━━━━━━━━━━━━━━━━━━━━━━━━━━━━┳━━━━━━━━━━━━━━━━━━━━━━━━┳━━━━━━━━━━━━━━━┓\n",
       "┃\u001B[1m \u001B[0m\u001B[1mLayer (type)                   \u001B[0m\u001B[1m \u001B[0m┃\u001B[1m \u001B[0m\u001B[1mOutput Shape          \u001B[0m\u001B[1m \u001B[0m┃\u001B[1m \u001B[0m\u001B[1m      Param #\u001B[0m\u001B[1m \u001B[0m┃\n",
       "┡━━━━━━━━━━━━━━━━━━━━━━━━━━━━━━━━━╇━━━━━━━━━━━━━━━━━━━━━━━━╇━━━━━━━━━━━━━━━┩\n",
       "│ conv2d_6 (\u001B[38;5;33mConv2D\u001B[0m)               │ (\u001B[38;5;45mNone\u001B[0m, \u001B[38;5;34m32\u001B[0m, \u001B[38;5;34m32\u001B[0m, \u001B[38;5;34m32\u001B[0m)     │           \u001B[38;5;34m896\u001B[0m │\n",
       "├─────────────────────────────────┼────────────────────────┼───────────────┤\n",
       "│ conv2d_7 (\u001B[38;5;33mConv2D\u001B[0m)               │ (\u001B[38;5;45mNone\u001B[0m, \u001B[38;5;34m32\u001B[0m, \u001B[38;5;34m32\u001B[0m, \u001B[38;5;34m32\u001B[0m)     │         \u001B[38;5;34m9,248\u001B[0m │\n",
       "├─────────────────────────────────┼────────────────────────┼───────────────┤\n",
       "│ max_pooling2d_4 (\u001B[38;5;33mMaxPooling2D\u001B[0m)  │ (\u001B[38;5;45mNone\u001B[0m, \u001B[38;5;34m16\u001B[0m, \u001B[38;5;34m16\u001B[0m, \u001B[38;5;34m32\u001B[0m)     │             \u001B[38;5;34m0\u001B[0m │\n",
       "├─────────────────────────────────┼────────────────────────┼───────────────┤\n",
       "│ dropout_3 (\u001B[38;5;33mDropout\u001B[0m)             │ (\u001B[38;5;45mNone\u001B[0m, \u001B[38;5;34m16\u001B[0m, \u001B[38;5;34m16\u001B[0m, \u001B[38;5;34m32\u001B[0m)     │             \u001B[38;5;34m0\u001B[0m │\n",
       "├─────────────────────────────────┼────────────────────────┼───────────────┤\n",
       "│ conv2d_8 (\u001B[38;5;33mConv2D\u001B[0m)               │ (\u001B[38;5;45mNone\u001B[0m, \u001B[38;5;34m16\u001B[0m, \u001B[38;5;34m16\u001B[0m, \u001B[38;5;34m64\u001B[0m)     │        \u001B[38;5;34m18,496\u001B[0m │\n",
       "├─────────────────────────────────┼────────────────────────┼───────────────┤\n",
       "│ conv2d_9 (\u001B[38;5;33mConv2D\u001B[0m)               │ (\u001B[38;5;45mNone\u001B[0m, \u001B[38;5;34m14\u001B[0m, \u001B[38;5;34m14\u001B[0m, \u001B[38;5;34m64\u001B[0m)     │        \u001B[38;5;34m36,928\u001B[0m │\n",
       "├─────────────────────────────────┼────────────────────────┼───────────────┤\n",
       "│ max_pooling2d_5 (\u001B[38;5;33mMaxPooling2D\u001B[0m)  │ (\u001B[38;5;45mNone\u001B[0m, \u001B[38;5;34m7\u001B[0m, \u001B[38;5;34m7\u001B[0m, \u001B[38;5;34m64\u001B[0m)       │             \u001B[38;5;34m0\u001B[0m │\n",
       "├─────────────────────────────────┼────────────────────────┼───────────────┤\n",
       "│ dropout_4 (\u001B[38;5;33mDropout\u001B[0m)             │ (\u001B[38;5;45mNone\u001B[0m, \u001B[38;5;34m7\u001B[0m, \u001B[38;5;34m7\u001B[0m, \u001B[38;5;34m64\u001B[0m)       │             \u001B[38;5;34m0\u001B[0m │\n",
       "├─────────────────────────────────┼────────────────────────┼───────────────┤\n",
       "│ flatten_2 (\u001B[38;5;33mFlatten\u001B[0m)             │ (\u001B[38;5;45mNone\u001B[0m, \u001B[38;5;34m3136\u001B[0m)           │             \u001B[38;5;34m0\u001B[0m │\n",
       "├─────────────────────────────────┼────────────────────────┼───────────────┤\n",
       "│ dense_3 (\u001B[38;5;33mDense\u001B[0m)                 │ (\u001B[38;5;45mNone\u001B[0m, \u001B[38;5;34m512\u001B[0m)            │     \u001B[38;5;34m1,606,144\u001B[0m │\n",
       "├─────────────────────────────────┼────────────────────────┼───────────────┤\n",
       "│ dropout_5 (\u001B[38;5;33mDropout\u001B[0m)             │ (\u001B[38;5;45mNone\u001B[0m, \u001B[38;5;34m512\u001B[0m)            │             \u001B[38;5;34m0\u001B[0m │\n",
       "├─────────────────────────────────┼────────────────────────┼───────────────┤\n",
       "│ dense_4 (\u001B[38;5;33mDense\u001B[0m)                 │ (\u001B[38;5;45mNone\u001B[0m, \u001B[38;5;34m10\u001B[0m)             │         \u001B[38;5;34m5,130\u001B[0m │\n",
       "└─────────────────────────────────┴────────────────────────┴───────────────┘\n"
      ],
      "text/html": [
       "<pre style=\"white-space:pre;overflow-x:auto;line-height:normal;font-family:Menlo,'DejaVu Sans Mono',consolas,'Courier New',monospace\">┏━━━━━━━━━━━━━━━━━━━━━━━━━━━━━━━━━┳━━━━━━━━━━━━━━━━━━━━━━━━┳━━━━━━━━━━━━━━━┓\n",
       "┃<span style=\"font-weight: bold\"> Layer (type)                    </span>┃<span style=\"font-weight: bold\"> Output Shape           </span>┃<span style=\"font-weight: bold\">       Param # </span>┃\n",
       "┡━━━━━━━━━━━━━━━━━━━━━━━━━━━━━━━━━╇━━━━━━━━━━━━━━━━━━━━━━━━╇━━━━━━━━━━━━━━━┩\n",
       "│ conv2d_6 (<span style=\"color: #0087ff; text-decoration-color: #0087ff\">Conv2D</span>)               │ (<span style=\"color: #00d7ff; text-decoration-color: #00d7ff\">None</span>, <span style=\"color: #00af00; text-decoration-color: #00af00\">32</span>, <span style=\"color: #00af00; text-decoration-color: #00af00\">32</span>, <span style=\"color: #00af00; text-decoration-color: #00af00\">32</span>)     │           <span style=\"color: #00af00; text-decoration-color: #00af00\">896</span> │\n",
       "├─────────────────────────────────┼────────────────────────┼───────────────┤\n",
       "│ conv2d_7 (<span style=\"color: #0087ff; text-decoration-color: #0087ff\">Conv2D</span>)               │ (<span style=\"color: #00d7ff; text-decoration-color: #00d7ff\">None</span>, <span style=\"color: #00af00; text-decoration-color: #00af00\">32</span>, <span style=\"color: #00af00; text-decoration-color: #00af00\">32</span>, <span style=\"color: #00af00; text-decoration-color: #00af00\">32</span>)     │         <span style=\"color: #00af00; text-decoration-color: #00af00\">9,248</span> │\n",
       "├─────────────────────────────────┼────────────────────────┼───────────────┤\n",
       "│ max_pooling2d_4 (<span style=\"color: #0087ff; text-decoration-color: #0087ff\">MaxPooling2D</span>)  │ (<span style=\"color: #00d7ff; text-decoration-color: #00d7ff\">None</span>, <span style=\"color: #00af00; text-decoration-color: #00af00\">16</span>, <span style=\"color: #00af00; text-decoration-color: #00af00\">16</span>, <span style=\"color: #00af00; text-decoration-color: #00af00\">32</span>)     │             <span style=\"color: #00af00; text-decoration-color: #00af00\">0</span> │\n",
       "├─────────────────────────────────┼────────────────────────┼───────────────┤\n",
       "│ dropout_3 (<span style=\"color: #0087ff; text-decoration-color: #0087ff\">Dropout</span>)             │ (<span style=\"color: #00d7ff; text-decoration-color: #00d7ff\">None</span>, <span style=\"color: #00af00; text-decoration-color: #00af00\">16</span>, <span style=\"color: #00af00; text-decoration-color: #00af00\">16</span>, <span style=\"color: #00af00; text-decoration-color: #00af00\">32</span>)     │             <span style=\"color: #00af00; text-decoration-color: #00af00\">0</span> │\n",
       "├─────────────────────────────────┼────────────────────────┼───────────────┤\n",
       "│ conv2d_8 (<span style=\"color: #0087ff; text-decoration-color: #0087ff\">Conv2D</span>)               │ (<span style=\"color: #00d7ff; text-decoration-color: #00d7ff\">None</span>, <span style=\"color: #00af00; text-decoration-color: #00af00\">16</span>, <span style=\"color: #00af00; text-decoration-color: #00af00\">16</span>, <span style=\"color: #00af00; text-decoration-color: #00af00\">64</span>)     │        <span style=\"color: #00af00; text-decoration-color: #00af00\">18,496</span> │\n",
       "├─────────────────────────────────┼────────────────────────┼───────────────┤\n",
       "│ conv2d_9 (<span style=\"color: #0087ff; text-decoration-color: #0087ff\">Conv2D</span>)               │ (<span style=\"color: #00d7ff; text-decoration-color: #00d7ff\">None</span>, <span style=\"color: #00af00; text-decoration-color: #00af00\">14</span>, <span style=\"color: #00af00; text-decoration-color: #00af00\">14</span>, <span style=\"color: #00af00; text-decoration-color: #00af00\">64</span>)     │        <span style=\"color: #00af00; text-decoration-color: #00af00\">36,928</span> │\n",
       "├─────────────────────────────────┼────────────────────────┼───────────────┤\n",
       "│ max_pooling2d_5 (<span style=\"color: #0087ff; text-decoration-color: #0087ff\">MaxPooling2D</span>)  │ (<span style=\"color: #00d7ff; text-decoration-color: #00d7ff\">None</span>, <span style=\"color: #00af00; text-decoration-color: #00af00\">7</span>, <span style=\"color: #00af00; text-decoration-color: #00af00\">7</span>, <span style=\"color: #00af00; text-decoration-color: #00af00\">64</span>)       │             <span style=\"color: #00af00; text-decoration-color: #00af00\">0</span> │\n",
       "├─────────────────────────────────┼────────────────────────┼───────────────┤\n",
       "│ dropout_4 (<span style=\"color: #0087ff; text-decoration-color: #0087ff\">Dropout</span>)             │ (<span style=\"color: #00d7ff; text-decoration-color: #00d7ff\">None</span>, <span style=\"color: #00af00; text-decoration-color: #00af00\">7</span>, <span style=\"color: #00af00; text-decoration-color: #00af00\">7</span>, <span style=\"color: #00af00; text-decoration-color: #00af00\">64</span>)       │             <span style=\"color: #00af00; text-decoration-color: #00af00\">0</span> │\n",
       "├─────────────────────────────────┼────────────────────────┼───────────────┤\n",
       "│ flatten_2 (<span style=\"color: #0087ff; text-decoration-color: #0087ff\">Flatten</span>)             │ (<span style=\"color: #00d7ff; text-decoration-color: #00d7ff\">None</span>, <span style=\"color: #00af00; text-decoration-color: #00af00\">3136</span>)           │             <span style=\"color: #00af00; text-decoration-color: #00af00\">0</span> │\n",
       "├─────────────────────────────────┼────────────────────────┼───────────────┤\n",
       "│ dense_3 (<span style=\"color: #0087ff; text-decoration-color: #0087ff\">Dense</span>)                 │ (<span style=\"color: #00d7ff; text-decoration-color: #00d7ff\">None</span>, <span style=\"color: #00af00; text-decoration-color: #00af00\">512</span>)            │     <span style=\"color: #00af00; text-decoration-color: #00af00\">1,606,144</span> │\n",
       "├─────────────────────────────────┼────────────────────────┼───────────────┤\n",
       "│ dropout_5 (<span style=\"color: #0087ff; text-decoration-color: #0087ff\">Dropout</span>)             │ (<span style=\"color: #00d7ff; text-decoration-color: #00d7ff\">None</span>, <span style=\"color: #00af00; text-decoration-color: #00af00\">512</span>)            │             <span style=\"color: #00af00; text-decoration-color: #00af00\">0</span> │\n",
       "├─────────────────────────────────┼────────────────────────┼───────────────┤\n",
       "│ dense_4 (<span style=\"color: #0087ff; text-decoration-color: #0087ff\">Dense</span>)                 │ (<span style=\"color: #00d7ff; text-decoration-color: #00d7ff\">None</span>, <span style=\"color: #00af00; text-decoration-color: #00af00\">10</span>)             │         <span style=\"color: #00af00; text-decoration-color: #00af00\">5,130</span> │\n",
       "└─────────────────────────────────┴────────────────────────┴───────────────┘\n",
       "</pre>\n"
      ]
     },
     "metadata": {},
     "output_type": "display_data"
    },
    {
     "data": {
      "text/plain": [
       "\u001B[1m Total params: \u001B[0m\u001B[38;5;34m1,676,842\u001B[0m (6.40 MB)\n"
      ],
      "text/html": [
       "<pre style=\"white-space:pre;overflow-x:auto;line-height:normal;font-family:Menlo,'DejaVu Sans Mono',consolas,'Courier New',monospace\"><span style=\"font-weight: bold\"> Total params: </span><span style=\"color: #00af00; text-decoration-color: #00af00\">1,676,842</span> (6.40 MB)\n",
       "</pre>\n"
      ]
     },
     "metadata": {},
     "output_type": "display_data"
    },
    {
     "data": {
      "text/plain": [
       "\u001B[1m Trainable params: \u001B[0m\u001B[38;5;34m1,676,842\u001B[0m (6.40 MB)\n"
      ],
      "text/html": [
       "<pre style=\"white-space:pre;overflow-x:auto;line-height:normal;font-family:Menlo,'DejaVu Sans Mono',consolas,'Courier New',monospace\"><span style=\"font-weight: bold\"> Trainable params: </span><span style=\"color: #00af00; text-decoration-color: #00af00\">1,676,842</span> (6.40 MB)\n",
       "</pre>\n"
      ]
     },
     "metadata": {},
     "output_type": "display_data"
    },
    {
     "data": {
      "text/plain": [
       "\u001B[1m Non-trainable params: \u001B[0m\u001B[38;5;34m0\u001B[0m (0.00 B)\n"
      ],
      "text/html": [
       "<pre style=\"white-space:pre;overflow-x:auto;line-height:normal;font-family:Menlo,'DejaVu Sans Mono',consolas,'Courier New',monospace\"><span style=\"font-weight: bold\"> Non-trainable params: </span><span style=\"color: #00af00; text-decoration-color: #00af00\">0</span> (0.00 B)\n",
       "</pre>\n"
      ]
     },
     "metadata": {},
     "output_type": "display_data"
    },
    {
     "name": "stdout",
     "output_type": "stream",
     "text": [
      "None\n"
     ]
    }
   ],
   "execution_count": 21
  },
  {
   "metadata": {
    "ExecuteTime": {
     "end_time": "2025-02-10T10:48:49.461650Z",
     "start_time": "2025-02-10T10:21:56.226765Z"
    }
   },
   "cell_type": "code",
   "source": [
    "model.compile(loss=\"categorical_crossentropy\",optimizer=\"adam\",metrics=['accuracy'])\n",
    "history=model.fit(x_train, y_train,batch_size=batch_size,epochs=nb_epoch,validation_split=0.1, shuffle=True,verbose=2)"
   ],
   "id": "1d686444ef56e2c4",
   "outputs": [
    {
     "name": "stdout",
     "output_type": "stream",
     "text": [
      "Epoch 1/25\n",
      "352/352 - 62s - 176ms/step - accuracy: 0.3847 - loss: 1.6825 - val_accuracy: 0.5442 - val_loss: 1.2755\n",
      "Epoch 2/25\n",
      "352/352 - 88s - 250ms/step - accuracy: 0.5555 - loss: 1.2416 - val_accuracy: 0.6290 - val_loss: 1.0488\n",
      "Epoch 3/25\n",
      "352/352 - 73s - 207ms/step - accuracy: 0.6267 - loss: 1.0563 - val_accuracy: 0.6756 - val_loss: 0.9286\n",
      "Epoch 4/25\n",
      "352/352 - 75s - 213ms/step - accuracy: 0.6683 - loss: 0.9381 - val_accuracy: 0.7112 - val_loss: 0.8194\n",
      "Epoch 5/25\n",
      "352/352 - 64s - 182ms/step - accuracy: 0.7002 - loss: 0.8535 - val_accuracy: 0.7276 - val_loss: 0.7884\n",
      "Epoch 6/25\n",
      "352/352 - 60s - 170ms/step - accuracy: 0.7204 - loss: 0.7922 - val_accuracy: 0.7444 - val_loss: 0.7361\n",
      "Epoch 7/25\n",
      "352/352 - 78s - 221ms/step - accuracy: 0.7403 - loss: 0.7403 - val_accuracy: 0.7624 - val_loss: 0.6929\n",
      "Epoch 8/25\n",
      "352/352 - 62s - 177ms/step - accuracy: 0.7560 - loss: 0.6939 - val_accuracy: 0.7700 - val_loss: 0.6917\n",
      "Epoch 9/25\n",
      "352/352 - 55s - 157ms/step - accuracy: 0.7667 - loss: 0.6634 - val_accuracy: 0.7658 - val_loss: 0.6931\n",
      "Epoch 10/25\n",
      "352/352 - 57s - 163ms/step - accuracy: 0.7840 - loss: 0.6172 - val_accuracy: 0.7858 - val_loss: 0.6426\n",
      "Epoch 11/25\n",
      "352/352 - 71s - 201ms/step - accuracy: 0.7916 - loss: 0.5888 - val_accuracy: 0.7820 - val_loss: 0.6431\n",
      "Epoch 12/25\n",
      "352/352 - 74s - 209ms/step - accuracy: 0.8003 - loss: 0.5608 - val_accuracy: 0.7890 - val_loss: 0.6170\n",
      "Epoch 13/25\n",
      "352/352 - 76s - 216ms/step - accuracy: 0.8148 - loss: 0.5275 - val_accuracy: 0.7958 - val_loss: 0.6267\n",
      "Epoch 14/25\n",
      "352/352 - 76s - 217ms/step - accuracy: 0.8191 - loss: 0.5083 - val_accuracy: 0.7844 - val_loss: 0.6404\n",
      "Epoch 15/25\n",
      "352/352 - 60s - 170ms/step - accuracy: 0.8260 - loss: 0.4856 - val_accuracy: 0.7862 - val_loss: 0.6415\n",
      "Epoch 16/25\n",
      "352/352 - 54s - 155ms/step - accuracy: 0.8349 - loss: 0.4614 - val_accuracy: 0.7920 - val_loss: 0.6246\n",
      "Epoch 17/25\n",
      "352/352 - 55s - 156ms/step - accuracy: 0.8406 - loss: 0.4478 - val_accuracy: 0.7960 - val_loss: 0.6163\n",
      "Epoch 18/25\n",
      "352/352 - 56s - 158ms/step - accuracy: 0.8467 - loss: 0.4311 - val_accuracy: 0.7950 - val_loss: 0.6279\n",
      "Epoch 19/25\n",
      "352/352 - 55s - 157ms/step - accuracy: 0.8537 - loss: 0.4125 - val_accuracy: 0.7988 - val_loss: 0.6160\n",
      "Epoch 20/25\n",
      "352/352 - 61s - 174ms/step - accuracy: 0.8590 - loss: 0.3962 - val_accuracy: 0.7956 - val_loss: 0.6298\n",
      "Epoch 21/25\n",
      "352/352 - 55s - 156ms/step - accuracy: 0.8595 - loss: 0.3908 - val_accuracy: 0.8014 - val_loss: 0.6153\n",
      "Epoch 22/25\n",
      "352/352 - 63s - 180ms/step - accuracy: 0.8664 - loss: 0.3740 - val_accuracy: 0.8060 - val_loss: 0.6184\n",
      "Epoch 23/25\n",
      "352/352 - 61s - 172ms/step - accuracy: 0.8700 - loss: 0.3658 - val_accuracy: 0.8008 - val_loss: 0.6264\n",
      "Epoch 24/25\n",
      "352/352 - 62s - 175ms/step - accuracy: 0.8724 - loss: 0.3596 - val_accuracy: 0.8024 - val_loss: 0.6353\n",
      "Epoch 25/25\n",
      "352/352 - 60s - 169ms/step - accuracy: 0.8770 - loss: 0.3454 - val_accuracy: 0.8024 - val_loss: 0.6300\n"
     ]
    }
   ],
   "execution_count": 22
  },
  {
   "metadata": {
    "ExecuteTime": {
     "end_time": "2025-02-10T10:48:58.516905Z",
     "start_time": "2025-02-10T10:48:54.522271Z"
    }
   },
   "cell_type": "code",
   "source": [
    "scores=model.evaluate(x_test,y_test,verbose=0)\n",
    "print(\"Точность работы на тестовых данных:%.2f\"%(scores[1]*100))"
   ],
   "id": "de71868c1540c9e9",
   "outputs": [
    {
     "name": "stdout",
     "output_type": "stream",
     "text": [
      "Точность работы на тестовых данных:79.64\n"
     ]
    }
   ],
   "execution_count": 24
  },
  {
   "metadata": {
    "ExecuteTime": {
     "end_time": "2025-02-10T10:49:02.431767Z",
     "start_time": "2025-02-10T10:49:02.302237Z"
    }
   },
   "cell_type": "code",
   "source": [
    "history_dict=history.history\n",
    "acc_values = history_dict['accuracy']\n",
    "val_acc_values = history_dict['val_accuracy']\n",
    "epochs=range(1,len(acc_values)+1)\n",
    "plt.plot(epochs, acc_values, 'bo', label='Training acc')\n",
    "plt.plot(epochs, val_acc_values, 'b', label='Validation acc')\n",
    "plt.xlabel('Epochs')\n",
    "plt.ylabel('Accuracy')\n",
    "plt.legend()\n",
    "plt.show()"
   ],
   "id": "a20e1f75c8b54a7c",
   "outputs": [
    {
     "data": {
      "text/plain": [
       "<Figure size 640x480 with 1 Axes>"
      ],
      "image/png": "[encoded data removed]"
     },
     "metadata": {},
     "output_type": "display_data"
    }
   ],
   "execution_count": 26
  },
  {
   "metadata": {
    "ExecuteTime": {
     "end_time": "2025-02-10T10:53:41.698417Z",
     "start_time": "2025-02-10T10:53:41.604392Z"
    }
   },
   "cell_type": "code",
   "source": [
    "model_json=model.to_json()\n",
    "json_file=open(\"cifar10_model.json\",\"w\")\n",
    "json_file.write(model_json)\n",
    "json_file.close()\n",
    "model.save_weights(\"cifar10.weights.h5\")"
   ],
   "id": "d99bf599b001955f",
   "outputs": [],
   "execution_count": 42
  },
  {
   "metadata": {
    "ExecuteTime": {
     "end_time": "2025-02-10T10:53:43.037645Z",
     "start_time": "2025-02-10T10:53:42.940300Z"
    }
   },
   "cell_type": "code",
   "source": [
    "index=11\n",
    "plt.imshow(image.array_to_img(x_test[index]))\n",
    "plt.show()"
   ],
   "id": "e4998c523eccbfae",
   "outputs": [
    {
     "data": {
      "text/plain": [
       "<Figure size 640x480 with 1 Axes>"
      ],
      "image/png": "[encoded data removed]"
     },
     "metadata": {},
     "output_type": "display_data"
    }
   ],
   "execution_count": 43
  },
  {
   "metadata": {
    "ExecuteTime": {
     "end_time": "2025-02-10T10:56:38.417817Z",
     "start_time": "2025-02-10T10:56:38.412276Z"
    }
   },
   "cell_type": "code",
   "source": [
    "x=x_test[index]\n",
    "x=np.expand_dims(x,axis=0)"
   ],
   "id": "1a558e97ee5e41b3",
   "outputs": [],
   "execution_count": 60
  },
  {
   "metadata": {
    "ExecuteTime": {
     "end_time": "2025-02-10T10:56:40.534050Z",
     "start_time": "2025-02-10T10:56:40.430389Z"
    }
   },
   "cell_type": "code",
   "source": [
    "prediction=model.predict(x)\n",
    "print(prediction)"
   ],
   "id": "70dab5066d4c77f7",
   "outputs": [
    {
     "name": "stdout",
     "output_type": "stream",
     "text": [
      "\u001B[1m1/1\u001B[0m \u001B[32m━━━━━━━━━━━━━━━━━━━━\u001B[0m\u001B[37m\u001B[0m \u001B[1m0s\u001B[0m 47ms/step\n",
      "[[8.5597973e-13 2.0130169e-07 4.2256429e-19 1.9062766e-17 2.4024342e-25\n",
      "  1.3794898e-20 5.4200017e-18 3.4403133e-20 5.9004274e-14 9.9999976e-01]]\n"
     ]
    }
   ],
   "execution_count": 61
  },
  {
   "metadata": {
    "ExecuteTime": {
     "end_time": "2025-02-10T10:56:41.895427Z",
     "start_time": "2025-02-10T10:56:41.882608Z"
    }
   },
   "cell_type": "code",
   "source": [
    "prediction=np.argmax(prediction)\n",
    "print(classes[prediction])"
   ],
   "id": "8ac5950a7ee37326",
   "outputs": [
    {
     "name": "stdout",
     "output_type": "stream",
     "text": [
      "грузовик\n"
     ]
    }
   ],
   "execution_count": 62
  },
  {
   "metadata": {
    "ExecuteTime": {
     "end_time": "2025-02-10T10:56:43.976774Z",
     "start_time": "2025-02-10T10:56:43.871327Z"
    }
   },
   "cell_type": "code",
   "source": [
    "img_path='ship.jpg'\n",
    "img=image.load_img(img_path,target_size=(32,32))\n",
    "plt.imshow(img)\n",
    "plt.show()"
   ],
   "id": "455dd15d48da858",
   "outputs": [
    {
     "data": {
      "text/plain": [
       "<Figure size 640x480 with 1 Axes>"
      ],
      "image/png": "[encoded data removed]"
     },
     "metadata": {},
     "output_type": "display_data"
    }
   ],
   "execution_count": 63
  },
  {
   "metadata": {
    "ExecuteTime": {
     "end_time": "2025-02-10T10:56:46.123309Z",
     "start_time": "2025-02-10T10:56:46.108325Z"
    }
   },
   "cell_type": "code",
   "source": [
    "x=image.img_to_array(img)\n",
    "x/=255\n",
    "x=np.expand_dims(x,axis=0)"
   ],
   "id": "8885d27c6553e1cc",
   "outputs": [],
   "execution_count": 64
  },
  {
   "metadata": {
    "ExecuteTime": {
     "end_time": "2025-02-10T10:56:46.930734Z",
     "start_time": "2025-02-10T10:56:46.839527Z"
    }
   },
   "cell_type": "code",
   "source": [
    "prediction=model.predict(x)\n",
    "prediction=np.argmax(prediction)\n",
    "print(classes[prediction])"
   ],
   "id": "37b0c27e6e29993d",
   "outputs": [
    {
     "name": "stdout",
     "output_type": "stream",
     "text": [
      "\u001B[1m1/1\u001B[0m \u001B[32m━━━━━━━━━━━━━━━━━━━━\u001B[0m\u001B[37m\u001B[0m \u001B[1m0s\u001B[0m 31ms/step\n",
      "корабль\n"
     ]
    }
   ],
   "execution_count": 65
  }
 ],
 "metadata": {
  "kernelspec": {
   "display_name": "Python 3",
   "language": "python",
   "name": "python3"
  },
  "language_info": {
   "codemirror_mode": {
    "name": "ipython",
    "version": 2
   },
   "file_extension": ".py",
   "mimetype": "text/x-python",
   "name": "python",
   "nbconvert_exporter": "python",
   "pygments_lexer": "ipython2",
   "version": "2.7.6"
  }
 },
 "nbformat": 4,
 "nbformat_minor": 5
}
