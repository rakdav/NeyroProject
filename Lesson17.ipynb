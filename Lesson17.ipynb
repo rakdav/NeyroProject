{
 "cells": [
  {
   "cell_type": "code",
   "id": "initial_id",
   "metadata": {
    "collapsed": true,
    "ExecuteTime": {
     "end_time": "2025-02-10T11:17:25.134052Z",
     "start_time": "2025-02-10T11:17:25.128622Z"
    }
   },
   "source": [
    "from keras import activations,preprocessing\n",
    "import numpy as np\n",
    "from keras.api.applications.vgg16 import preprocess_input,decode_predictions\n",
    "from keras.src.applications.vgg16 import VGG16, preprocess_input"
   ],
   "outputs": [],
   "execution_count": 3
  },
  {
   "metadata": {
    "ExecuteTime": {
     "end_time": "2025-02-10T11:19:34.959192Z",
     "start_time": "2025-02-10T11:17:27.051807Z"
    }
   },
   "cell_type": "code",
   "source": "model=VGG16(weights='imagenet')",
   "id": "b0b80d0d136fe524",
   "outputs": [
    {
     "name": "stdout",
     "output_type": "stream",
     "text": [
      "Downloading data from https://storage.googleapis.com/tensorflow/keras-applications/vgg16/vgg16_weights_tf_dim_ordering_tf_kernels.h5\n",
      "\u001B[1m553467096/553467096\u001B[0m \u001B[32m━━━━━━━━━━━━━━━━━━━━\u001B[0m\u001B[37m\u001B[0m \u001B[1m122s\u001B[0m 0us/step\n"
     ]
    }
   ],
   "execution_count": 4
  },
  {
   "metadata": {
    "ExecuteTime": {
     "end_time": "2025-02-10T11:27:22.241423Z",
     "start_time": "2025-02-10T11:27:21.495054Z"
    }
   },
   "cell_type": "code",
   "source": [
    "img=preprocessing.image.load_img('plane.jpg',target_size=(224,224))\n",
    "x=preprocessing.image.img_to_array(img)\n",
    "x=np.expand_dims(x,axis=0)\n",
    "x=preprocess_input(x)\n",
    "preds=model.predict(x)\n",
    "print(\"Результаты распознавания:\",decode_predictions(preds,top=10)[0])"
   ],
   "id": "e80224684cf64f43",
   "outputs": [
    {
     "name": "stdout",
     "output_type": "stream",
     "text": [
      "\u001B[1m1/1\u001B[0m \u001B[32m━━━━━━━━━━━━━━━━━━━━\u001B[0m\u001B[37m\u001B[0m \u001B[1m1s\u001B[0m 668ms/step\n",
      "Результаты распознавания: [('n02690373', 'airliner', np.float32(0.76766837)), ('n04266014', 'space_shuttle', np.float32(0.13178676)), ('n04592741', 'wing', np.float32(0.07924488)), ('n04552348', 'warplane', np.float32(0.013259528)), ('n03773504', 'missile', np.float32(0.003202502)), ('n02692877', 'airship', np.float32(0.002769125)), ('n04008634', 'projectile', np.float32(0.0020518778)), ('n02687172', 'aircraft_carrier', np.float32(1.0573115e-05)), ('n04258138', 'solar_dish', np.float32(1.6178052e-06)), ('n03888257', 'parachute', np.float32(1.3823287e-06))]\n"
     ]
    }
   ],
   "execution_count": 9
  }
 ],
 "metadata": {
  "kernelspec": {
   "display_name": "Python 3",
   "language": "python",
   "name": "python3"
  },
  "language_info": {
   "codemirror_mode": {
    "name": "ipython",
    "version": 2
   },
   "file_extension": ".py",
   "mimetype": "text/x-python",
   "name": "python",
   "nbconvert_exporter": "python",
   "pygments_lexer": "ipython2",
   "version": "2.7.6"
  }
 },
 "nbformat": 4,
 "nbformat_minor": 5
}
