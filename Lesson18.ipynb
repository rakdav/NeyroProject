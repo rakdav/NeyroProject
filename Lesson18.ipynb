{
 "cells": [
  {
   "cell_type": "code",
   "id": "initial_id",
   "metadata": {
    "collapsed": true,
    "ExecuteTime": {
     "end_time": "2025-02-11T10:33:53.121960Z",
     "start_time": "2025-02-11T10:33:53.106433Z"
    }
   },
   "source": [
    "import numpy as np\n",
    "from keras import datasets, layers,utils,Sequential"
   ],
   "outputs": [],
   "execution_count": 32
  },
  {
   "metadata": {
    "ExecuteTime": {
     "end_time": "2025-02-11T10:33:54.158679Z",
     "start_time": "2025-02-11T10:33:54.153613Z"
    }
   },
   "cell_type": "code",
   "source": "np.random.seed(42)",
   "id": "68bf3137d933980a",
   "outputs": [],
   "execution_count": 33
  },
  {
   "metadata": {
    "ExecuteTime": {
     "end_time": "2025-02-11T10:33:55.203360Z",
     "start_time": "2025-02-11T10:33:54.925598Z"
    }
   },
   "cell_type": "code",
   "source": "(x_train, y_train), (x_test, y_test) = datasets.mnist.load_data()",
   "id": "2d36072283eb62cc",
   "outputs": [],
   "execution_count": 34
  },
  {
   "metadata": {
    "ExecuteTime": {
     "end_time": "2025-02-11T10:33:56.161069Z",
     "start_time": "2025-02-11T10:33:56.052571Z"
    }
   },
   "cell_type": "code",
   "source": [
    "x_train = x_train.reshape(60000,784)\n",
    "x_test = x_test.reshape(10000, 784)\n",
    "x_train = x_train.astype('float32')\n",
    "x_test = x_test.astype('float32')\n",
    "x_train /= 255\n",
    "x_test /= 255"
   ],
   "id": "b8db79a3c549498f",
   "outputs": [],
   "execution_count": 35
  },
  {
   "metadata": {
    "ExecuteTime": {
     "end_time": "2025-02-11T10:33:57.644675Z",
     "start_time": "2025-02-11T10:33:57.628539Z"
    }
   },
   "cell_type": "code",
   "source": [
    "y_train=utils.to_categorical(y_train,10)\n",
    "y_test=utils.to_categorical(y_test,10)"
   ],
   "id": "16faff2302a437e4",
   "outputs": [],
   "execution_count": 36
  },
  {
   "metadata": {
    "ExecuteTime": {
     "end_time": "2025-02-11T10:33:58.604033Z",
     "start_time": "2025-02-11T10:33:58.570524Z"
    }
   },
   "cell_type": "code",
   "source": [
    "model = Sequential()\n",
    "model.add(layers.Dense(800,activation='relu',input_shape=(784,)))\n",
    "model.add(layers.Dense(10,activation='softmax',input_shape=(784,)))"
   ],
   "id": "20a3005dc8d640f4",
   "outputs": [],
   "execution_count": 37
  },
  {
   "metadata": {
    "ExecuteTime": {
     "end_time": "2025-02-11T10:33:59.919974Z",
     "start_time": "2025-02-11T10:33:59.909947Z"
    }
   },
   "cell_type": "code",
   "source": "model.compile(loss='categorical_crossentropy',optimizer='SGD',metrics=['accuracy'])",
   "id": "cdf7c6d06bbf153d",
   "outputs": [],
   "execution_count": 38
  },
  {
   "metadata": {
    "ExecuteTime": {
     "end_time": "2025-02-11T10:34:45.417842Z",
     "start_time": "2025-02-11T10:34:01.087593Z"
    }
   },
   "cell_type": "code",
   "source": "model.fit(x_train,y_train,batch_size=200,epochs=25,verbose=1,validation_split=0.2)",
   "id": "f12ae0879bbe5c57",
   "outputs": [
    {
     "name": "stdout",
     "output_type": "stream",
     "text": [
      "Epoch 1/25\n",
      "\u001B[1m240/240\u001B[0m \u001B[32m━━━━━━━━━━━━━━━━━━━━\u001B[0m\u001B[37m\u001B[0m \u001B[1m2s\u001B[0m 7ms/step - accuracy: 0.5047 - loss: 1.8146 - val_accuracy: 0.8456 - val_loss: 0.8780\n",
      "Epoch 2/25\n",
      "\u001B[1m240/240\u001B[0m \u001B[32m━━━━━━━━━━━━━━━━━━━━\u001B[0m\u001B[37m\u001B[0m \u001B[1m1s\u001B[0m 6ms/step - accuracy: 0.8372 - loss: 0.8097 - val_accuracy: 0.8749 - val_loss: 0.5793\n",
      "Epoch 3/25\n",
      "\u001B[1m240/240\u001B[0m \u001B[32m━━━━━━━━━━━━━━━━━━━━\u001B[0m\u001B[37m\u001B[0m \u001B[1m2s\u001B[0m 7ms/step - accuracy: 0.8661 - loss: 0.5815 - val_accuracy: 0.8880 - val_loss: 0.4737\n",
      "Epoch 4/25\n",
      "\u001B[1m240/240\u001B[0m \u001B[32m━━━━━━━━━━━━━━━━━━━━\u001B[0m\u001B[37m\u001B[0m \u001B[1m1s\u001B[0m 6ms/step - accuracy: 0.8809 - loss: 0.4914 - val_accuracy: 0.8962 - val_loss: 0.4195\n",
      "Epoch 5/25\n",
      "\u001B[1m240/240\u001B[0m \u001B[32m━━━━━━━━━━━━━━━━━━━━\u001B[0m\u001B[37m\u001B[0m \u001B[1m1s\u001B[0m 6ms/step - accuracy: 0.8891 - loss: 0.4384 - val_accuracy: 0.9003 - val_loss: 0.3866\n",
      "Epoch 6/25\n",
      "\u001B[1m240/240\u001B[0m \u001B[32m━━━━━━━━━━━━━━━━━━━━\u001B[0m\u001B[37m\u001B[0m \u001B[1m1s\u001B[0m 6ms/step - accuracy: 0.8926 - loss: 0.4088 - val_accuracy: 0.9056 - val_loss: 0.3636\n",
      "Epoch 7/25\n",
      "\u001B[1m240/240\u001B[0m \u001B[32m━━━━━━━━━━━━━━━━━━━━\u001B[0m\u001B[37m\u001B[0m \u001B[1m2s\u001B[0m 6ms/step - accuracy: 0.8978 - loss: 0.3835 - val_accuracy: 0.9076 - val_loss: 0.3464\n",
      "Epoch 8/25\n",
      "\u001B[1m240/240\u001B[0m \u001B[32m━━━━━━━━━━━━━━━━━━━━\u001B[0m\u001B[37m\u001B[0m \u001B[1m2s\u001B[0m 6ms/step - accuracy: 0.9054 - loss: 0.3628 - val_accuracy: 0.9098 - val_loss: 0.3326\n",
      "Epoch 9/25\n",
      "\u001B[1m240/240\u001B[0m \u001B[32m━━━━━━━━━━━━━━━━━━━━\u001B[0m\u001B[37m\u001B[0m \u001B[1m3s\u001B[0m 6ms/step - accuracy: 0.9061 - loss: 0.3491 - val_accuracy: 0.9134 - val_loss: 0.3216\n",
      "Epoch 10/25\n",
      "\u001B[1m240/240\u001B[0m \u001B[32m━━━━━━━━━━━━━━━━━━━━\u001B[0m\u001B[37m\u001B[0m \u001B[1m2s\u001B[0m 7ms/step - accuracy: 0.9085 - loss: 0.3376 - val_accuracy: 0.9151 - val_loss: 0.3120\n",
      "Epoch 11/25\n",
      "\u001B[1m240/240\u001B[0m \u001B[32m━━━━━━━━━━━━━━━━━━━━\u001B[0m\u001B[37m\u001B[0m \u001B[1m2s\u001B[0m 7ms/step - accuracy: 0.9117 - loss: 0.3287 - val_accuracy: 0.9177 - val_loss: 0.3037\n",
      "Epoch 12/25\n",
      "\u001B[1m240/240\u001B[0m \u001B[32m━━━━━━━━━━━━━━━━━━━━\u001B[0m\u001B[37m\u001B[0m \u001B[1m2s\u001B[0m 7ms/step - accuracy: 0.9124 - loss: 0.3209 - val_accuracy: 0.9186 - val_loss: 0.2965\n",
      "Epoch 13/25\n",
      "\u001B[1m240/240\u001B[0m \u001B[32m━━━━━━━━━━━━━━━━━━━━\u001B[0m\u001B[37m\u001B[0m \u001B[1m2s\u001B[0m 7ms/step - accuracy: 0.9166 - loss: 0.3082 - val_accuracy: 0.9204 - val_loss: 0.2898\n",
      "Epoch 14/25\n",
      "\u001B[1m240/240\u001B[0m \u001B[32m━━━━━━━━━━━━━━━━━━━━\u001B[0m\u001B[37m\u001B[0m \u001B[1m2s\u001B[0m 7ms/step - accuracy: 0.9175 - loss: 0.2989 - val_accuracy: 0.9211 - val_loss: 0.2842\n",
      "Epoch 15/25\n",
      "\u001B[1m240/240\u001B[0m \u001B[32m━━━━━━━━━━━━━━━━━━━━\u001B[0m\u001B[37m\u001B[0m \u001B[1m2s\u001B[0m 7ms/step - accuracy: 0.9209 - loss: 0.2933 - val_accuracy: 0.9232 - val_loss: 0.2786\n",
      "Epoch 16/25\n",
      "\u001B[1m240/240\u001B[0m \u001B[32m━━━━━━━━━━━━━━━━━━━━\u001B[0m\u001B[37m\u001B[0m \u001B[1m2s\u001B[0m 7ms/step - accuracy: 0.9209 - loss: 0.2889 - val_accuracy: 0.9238 - val_loss: 0.2733\n",
      "Epoch 17/25\n",
      "\u001B[1m240/240\u001B[0m \u001B[32m━━━━━━━━━━━━━━━━━━━━\u001B[0m\u001B[37m\u001B[0m \u001B[1m2s\u001B[0m 7ms/step - accuracy: 0.9220 - loss: 0.2849 - val_accuracy: 0.9257 - val_loss: 0.2688\n",
      "Epoch 18/25\n",
      "\u001B[1m240/240\u001B[0m \u001B[32m━━━━━━━━━━━━━━━━━━━━\u001B[0m\u001B[37m\u001B[0m \u001B[1m3s\u001B[0m 7ms/step - accuracy: 0.9204 - loss: 0.2792 - val_accuracy: 0.9263 - val_loss: 0.2643\n",
      "Epoch 19/25\n",
      "\u001B[1m240/240\u001B[0m \u001B[32m━━━━━━━━━━━━━━━━━━━━\u001B[0m\u001B[37m\u001B[0m \u001B[1m2s\u001B[0m 8ms/step - accuracy: 0.9241 - loss: 0.2765 - val_accuracy: 0.9268 - val_loss: 0.2601\n",
      "Epoch 20/25\n",
      "\u001B[1m240/240\u001B[0m \u001B[32m━━━━━━━━━━━━━━━━━━━━\u001B[0m\u001B[37m\u001B[0m \u001B[1m2s\u001B[0m 7ms/step - accuracy: 0.9271 - loss: 0.2636 - val_accuracy: 0.9285 - val_loss: 0.2561\n",
      "Epoch 21/25\n",
      "\u001B[1m240/240\u001B[0m \u001B[32m━━━━━━━━━━━━━━━━━━━━\u001B[0m\u001B[37m\u001B[0m \u001B[1m2s\u001B[0m 7ms/step - accuracy: 0.9265 - loss: 0.2621 - val_accuracy: 0.9293 - val_loss: 0.2525\n",
      "Epoch 22/25\n",
      "\u001B[1m240/240\u001B[0m \u001B[32m━━━━━━━━━━━━━━━━━━━━\u001B[0m\u001B[37m\u001B[0m \u001B[1m2s\u001B[0m 7ms/step - accuracy: 0.9254 - loss: 0.2641 - val_accuracy: 0.9304 - val_loss: 0.2489\n",
      "Epoch 23/25\n",
      "\u001B[1m240/240\u001B[0m \u001B[32m━━━━━━━━━━━━━━━━━━━━\u001B[0m\u001B[37m\u001B[0m \u001B[1m2s\u001B[0m 7ms/step - accuracy: 0.9274 - loss: 0.2612 - val_accuracy: 0.9309 - val_loss: 0.2454\n",
      "Epoch 24/25\n",
      "\u001B[1m240/240\u001B[0m \u001B[32m━━━━━━━━━━━━━━━━━━━━\u001B[0m\u001B[37m\u001B[0m \u001B[1m2s\u001B[0m 7ms/step - accuracy: 0.9309 - loss: 0.2522 - val_accuracy: 0.9325 - val_loss: 0.2419\n",
      "Epoch 25/25\n",
      "\u001B[1m240/240\u001B[0m \u001B[32m━━━━━━━━━━━━━━━━━━━━\u001B[0m\u001B[37m\u001B[0m \u001B[1m2s\u001B[0m 8ms/step - accuracy: 0.9323 - loss: 0.2464 - val_accuracy: 0.9325 - val_loss: 0.2388\n"
     ]
    },
    {
     "data": {
      "text/plain": [
       "<keras.src.callbacks.history.History at 0x1c074558590>"
      ]
     },
     "execution_count": 39,
     "metadata": {},
     "output_type": "execute_result"
    }
   ],
   "execution_count": 39
  },
  {
   "metadata": {
    "ExecuteTime": {
     "end_time": "2025-02-11T10:34:49.208843Z",
     "start_time": "2025-02-11T10:34:47.877699Z"
    }
   },
   "cell_type": "code",
   "source": [
    "scores=model.evaluate(x_test,y_test,verbose=0)\n",
    "print(\"Точность работы на тестовых данных:\",(scores[1]*100))"
   ],
   "id": "c28aa4682f21f242",
   "outputs": [
    {
     "name": "stdout",
     "output_type": "stream",
     "text": [
      "Точность работы на тестовых данных: 93.45999956130981\n"
     ]
    }
   ],
   "execution_count": 40
  },
  {
   "metadata": {
    "ExecuteTime": {
     "end_time": "2025-02-11T10:34:53.789463Z",
     "start_time": "2025-02-11T10:34:53.782576Z"
    }
   },
   "cell_type": "code",
   "source": [
    "model_json = model.to_json()\n",
    "json_file = open('mnist_model.json', 'w')\n",
    "json_file.write(model_json)\n",
    "json_file.close()"
   ],
   "id": "a1a2a2f52d03551a",
   "outputs": [],
   "execution_count": 41
  },
  {
   "metadata": {
    "ExecuteTime": {
     "end_time": "2025-02-11T10:34:55.628145Z",
     "start_time": "2025-02-11T10:34:55.588707Z"
    }
   },
   "cell_type": "code",
   "source": "model.save_weights('mnist_model.weights.h5')",
   "id": "89c96268df142da2",
   "outputs": [],
   "execution_count": 42
  }
 ],
 "metadata": {
  "kernelspec": {
   "display_name": "Python 3",
   "language": "python",
   "name": "python3"
  },
  "language_info": {
   "codemirror_mode": {
    "name": "ipython",
    "version": 2
   },
   "file_extension": ".py",
   "mimetype": "text/x-python",
   "name": "python",
   "nbconvert_exporter": "python",
   "pygments_lexer": "ipython2",
   "version": "2.7.6"
  }
 },
 "nbformat": 4,
 "nbformat_minor": 5
}
