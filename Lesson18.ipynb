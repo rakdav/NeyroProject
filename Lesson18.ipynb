{
 "cells": [
  {
   "cell_type": "code",
   "id": "initial_id",
   "metadata": {
    "collapsed": true,
    "ExecuteTime": {
     "end_time": "2025-02-11T12:26:02.233754Z",
     "start_time": "2025-02-11T12:26:02.218076Z"
    }
   },
   "source": [
    "import numpy as np\n",
    "from keras import datasets, layers,utils,Sequential\n",
    "import cv2 as cv\n",
    "from keras.src.layers import Dense\n",
    "import matplotlib.pyplot as plt\n",
    "from PIL import Image"
   ],
   "outputs": [],
   "execution_count": 145
  },
  {
   "metadata": {
    "ExecuteTime": {
     "end_time": "2025-02-11T12:26:03.843712Z",
     "start_time": "2025-02-11T12:26:03.580720Z"
    }
   },
   "cell_type": "code",
   "source": "(x_train_org, y_train_org), (x_test_org, y_test_org) = datasets.mnist.load_data()",
   "id": "9c1bfd94df3e250c",
   "outputs": [],
   "execution_count": 146
  },
  {
   "metadata": {
    "ExecuteTime": {
     "end_time": "2025-02-11T12:26:04.532688Z",
     "start_time": "2025-02-11T12:26:04.393131Z"
    }
   },
   "cell_type": "code",
   "source": [
    "plt.imshow(Image.fromarray(x_train_org[188]).convert('RGBA'))\n",
    "plt.show()"
   ],
   "id": "134d3252f163fd7c",
   "outputs": [
    {
     "data": {
      "text/plain": [
       "<Figure size 640x480 with 1 Axes>"
      ],
      "image/png": "[encoded data removed]"
     },
     "metadata": {},
     "output_type": "display_data"
    }
   ],
   "execution_count": 147
  },
  {
   "metadata": {
    "ExecuteTime": {
     "end_time": "2025-02-11T12:26:25.923173Z",
     "start_time": "2025-02-11T12:26:25.897895Z"
    }
   },
   "cell_type": "code",
   "source": [
    "x_train = x_train_org.reshape(60000, 784)\n",
    "x_test = x_test_org.reshape(10000, 784)"
   ],
   "id": "6a4e879253b6d04d",
   "outputs": [],
   "execution_count": 148
  },
  {
   "metadata": {
    "ExecuteTime": {
     "end_time": "2025-02-11T12:26:38.464347Z",
     "start_time": "2025-02-11T12:26:38.309977Z"
    }
   },
   "cell_type": "code",
   "source": [
    "x_train = x_train.astype('float32')\n",
    "x_train = x_train / 255\n",
    "x_test = x_test.astype('float32')\n",
    "x_test = x_test / 255 "
   ],
   "id": "8f75950e5892a6a",
   "outputs": [],
   "execution_count": 149
  },
  {
   "metadata": {
    "ExecuteTime": {
     "end_time": "2025-02-11T12:26:54.748866Z",
     "start_time": "2025-02-11T12:26:54.735932Z"
    }
   },
   "cell_type": "code",
   "source": "print(y_train_org[188])",
   "id": "cfafab0a67d9f27f",
   "outputs": [
    {
     "name": "stdout",
     "output_type": "stream",
     "text": [
      "8\n"
     ]
    }
   ],
   "execution_count": 150
  },
  {
   "metadata": {
    "ExecuteTime": {
     "end_time": "2025-02-11T12:27:19.102341Z",
     "start_time": "2025-02-11T12:27:19.090283Z"
    }
   },
   "cell_type": "code",
   "source": [
    "y_train = utils.to_categorical(y_train_org, 10)\n",
    "y_test = utils.to_categorical(y_test_org, 10)"
   ],
   "id": "1a3ac652ef2ece01",
   "outputs": [],
   "execution_count": 151
  },
  {
   "metadata": {
    "ExecuteTime": {
     "end_time": "2025-02-11T12:27:27.245801Z",
     "start_time": "2025-02-11T12:27:27.205493Z"
    }
   },
   "cell_type": "code",
   "source": [
    "model = Sequential()\n",
    "model.add(Dense(800, input_dim=784, activation=\"relu\"))\n",
    "model.add(Dense(400, activation=\"relu\"))\n",
    "model.add(Dense(10, activation=\"softmax\"))"
   ],
   "id": "ec0175ab6bac2686",
   "outputs": [],
   "execution_count": 152
  },
  {
   "metadata": {
    "ExecuteTime": {
     "end_time": "2025-02-11T12:27:34.234365Z",
     "start_time": "2025-02-11T12:27:34.214518Z"
    }
   },
   "cell_type": "code",
   "source": "model.compile(loss=\"categorical_crossentropy\", optimizer=\"adam\", metrics=[\"accuracy\"])",
   "id": "ada9c33fd697945a",
   "outputs": [],
   "execution_count": 153
  },
  {
   "metadata": {
    "ExecuteTime": {
     "end_time": "2025-02-11T12:27:35.144503Z",
     "start_time": "2025-02-11T12:27:35.118898Z"
    }
   },
   "cell_type": "code",
   "source": "print(model.summary())",
   "id": "8baa0da81e237103",
   "outputs": [
    {
     "data": {
      "text/plain": [
       "\u001B[1mModel: \"sequential_19\"\u001B[0m\n"
      ],
      "text/html": [
       "<pre style=\"white-space:pre;overflow-x:auto;line-height:normal;font-family:Menlo,'DejaVu Sans Mono',consolas,'Courier New',monospace\"><span style=\"font-weight: bold\">Model: \"sequential_19\"</span>\n",
       "</pre>\n"
      ]
     },
     "metadata": {},
     "output_type": "display_data"
    },
    {
     "data": {
      "text/plain": [
       "┏━━━━━━━━━━━━━━━━━━━━━━━━━━━━━━━━━┳━━━━━━━━━━━━━━━━━━━━━━━━┳━━━━━━━━━━━━━━━┓\n",
       "┃\u001B[1m \u001B[0m\u001B[1mLayer (type)                   \u001B[0m\u001B[1m \u001B[0m┃\u001B[1m \u001B[0m\u001B[1mOutput Shape          \u001B[0m\u001B[1m \u001B[0m┃\u001B[1m \u001B[0m\u001B[1m      Param #\u001B[0m\u001B[1m \u001B[0m┃\n",
       "┡━━━━━━━━━━━━━━━━━━━━━━━━━━━━━━━━━╇━━━━━━━━━━━━━━━━━━━━━━━━╇━━━━━━━━━━━━━━━┩\n",
       "│ dense_28 (\u001B[38;5;33mDense\u001B[0m)                │ (\u001B[38;5;45mNone\u001B[0m, \u001B[38;5;34m800\u001B[0m)            │       \u001B[38;5;34m628,000\u001B[0m │\n",
       "├─────────────────────────────────┼────────────────────────┼───────────────┤\n",
       "│ dense_29 (\u001B[38;5;33mDense\u001B[0m)                │ (\u001B[38;5;45mNone\u001B[0m, \u001B[38;5;34m400\u001B[0m)            │       \u001B[38;5;34m320,400\u001B[0m │\n",
       "├─────────────────────────────────┼────────────────────────┼───────────────┤\n",
       "│ dense_30 (\u001B[38;5;33mDense\u001B[0m)                │ (\u001B[38;5;45mNone\u001B[0m, \u001B[38;5;34m10\u001B[0m)             │         \u001B[38;5;34m4,010\u001B[0m │\n",
       "└─────────────────────────────────┴────────────────────────┴───────────────┘\n"
      ],
      "text/html": [
       "<pre style=\"white-space:pre;overflow-x:auto;line-height:normal;font-family:Menlo,'DejaVu Sans Mono',consolas,'Courier New',monospace\">┏━━━━━━━━━━━━━━━━━━━━━━━━━━━━━━━━━┳━━━━━━━━━━━━━━━━━━━━━━━━┳━━━━━━━━━━━━━━━┓\n",
       "┃<span style=\"font-weight: bold\"> Layer (type)                    </span>┃<span style=\"font-weight: bold\"> Output Shape           </span>┃<span style=\"font-weight: bold\">       Param # </span>┃\n",
       "┡━━━━━━━━━━━━━━━━━━━━━━━━━━━━━━━━━╇━━━━━━━━━━━━━━━━━━━━━━━━╇━━━━━━━━━━━━━━━┩\n",
       "│ dense_28 (<span style=\"color: #0087ff; text-decoration-color: #0087ff\">Dense</span>)                │ (<span style=\"color: #00d7ff; text-decoration-color: #00d7ff\">None</span>, <span style=\"color: #00af00; text-decoration-color: #00af00\">800</span>)            │       <span style=\"color: #00af00; text-decoration-color: #00af00\">628,000</span> │\n",
       "├─────────────────────────────────┼────────────────────────┼───────────────┤\n",
       "│ dense_29 (<span style=\"color: #0087ff; text-decoration-color: #0087ff\">Dense</span>)                │ (<span style=\"color: #00d7ff; text-decoration-color: #00d7ff\">None</span>, <span style=\"color: #00af00; text-decoration-color: #00af00\">400</span>)            │       <span style=\"color: #00af00; text-decoration-color: #00af00\">320,400</span> │\n",
       "├─────────────────────────────────┼────────────────────────┼───────────────┤\n",
       "│ dense_30 (<span style=\"color: #0087ff; text-decoration-color: #0087ff\">Dense</span>)                │ (<span style=\"color: #00d7ff; text-decoration-color: #00d7ff\">None</span>, <span style=\"color: #00af00; text-decoration-color: #00af00\">10</span>)             │         <span style=\"color: #00af00; text-decoration-color: #00af00\">4,010</span> │\n",
       "└─────────────────────────────────┴────────────────────────┴───────────────┘\n",
       "</pre>\n"
      ]
     },
     "metadata": {},
     "output_type": "display_data"
    },
    {
     "data": {
      "text/plain": [
       "\u001B[1m Total params: \u001B[0m\u001B[38;5;34m952,410\u001B[0m (3.63 MB)\n"
      ],
      "text/html": [
       "<pre style=\"white-space:pre;overflow-x:auto;line-height:normal;font-family:Menlo,'DejaVu Sans Mono',consolas,'Courier New',monospace\"><span style=\"font-weight: bold\"> Total params: </span><span style=\"color: #00af00; text-decoration-color: #00af00\">952,410</span> (3.63 MB)\n",
       "</pre>\n"
      ]
     },
     "metadata": {},
     "output_type": "display_data"
    },
    {
     "data": {
      "text/plain": [
       "\u001B[1m Trainable params: \u001B[0m\u001B[38;5;34m952,410\u001B[0m (3.63 MB)\n"
      ],
      "text/html": [
       "<pre style=\"white-space:pre;overflow-x:auto;line-height:normal;font-family:Menlo,'DejaVu Sans Mono',consolas,'Courier New',monospace\"><span style=\"font-weight: bold\"> Trainable params: </span><span style=\"color: #00af00; text-decoration-color: #00af00\">952,410</span> (3.63 MB)\n",
       "</pre>\n"
      ]
     },
     "metadata": {},
     "output_type": "display_data"
    },
    {
     "data": {
      "text/plain": [
       "\u001B[1m Non-trainable params: \u001B[0m\u001B[38;5;34m0\u001B[0m (0.00 B)\n"
      ],
      "text/html": [
       "<pre style=\"white-space:pre;overflow-x:auto;line-height:normal;font-family:Menlo,'DejaVu Sans Mono',consolas,'Courier New',monospace\"><span style=\"font-weight: bold\"> Non-trainable params: </span><span style=\"color: #00af00; text-decoration-color: #00af00\">0</span> (0.00 B)\n",
       "</pre>\n"
      ]
     },
     "metadata": {},
     "output_type": "display_data"
    },
    {
     "name": "stdout",
     "output_type": "stream",
     "text": [
      "None\n"
     ]
    }
   ],
   "execution_count": 154
  },
  {
   "metadata": {
    "ExecuteTime": {
     "end_time": "2025-02-11T12:29:19.494530Z",
     "start_time": "2025-02-11T12:27:40.386789Z"
    }
   },
   "cell_type": "code",
   "source": "model.fit(x_train, y_train, batch_size=200, epochs=20,  verbose=1, validation_split=0.2)",
   "id": "10e0357bfc4e969b",
   "outputs": [
    {
     "name": "stdout",
     "output_type": "stream",
     "text": [
      "Epoch 1/20\n",
      "\u001B[1m240/240\u001B[0m \u001B[32m━━━━━━━━━━━━━━━━━━━━\u001B[0m\u001B[37m\u001B[0m \u001B[1m5s\u001B[0m 16ms/step - accuracy: 0.8602 - loss: 0.4729 - val_accuracy: 0.9643 - val_loss: 0.1202\n",
      "Epoch 2/20\n",
      "\u001B[1m240/240\u001B[0m \u001B[32m━━━━━━━━━━━━━━━━━━━━\u001B[0m\u001B[37m\u001B[0m \u001B[1m5s\u001B[0m 19ms/step - accuracy: 0.9732 - loss: 0.0907 - val_accuracy: 0.9707 - val_loss: 0.0937\n",
      "Epoch 3/20\n",
      "\u001B[1m240/240\u001B[0m \u001B[32m━━━━━━━━━━━━━━━━━━━━\u001B[0m\u001B[37m\u001B[0m \u001B[1m4s\u001B[0m 16ms/step - accuracy: 0.9847 - loss: 0.0504 - val_accuracy: 0.9773 - val_loss: 0.0767\n",
      "Epoch 4/20\n",
      "\u001B[1m240/240\u001B[0m \u001B[32m━━━━━━━━━━━━━━━━━━━━\u001B[0m\u001B[37m\u001B[0m \u001B[1m4s\u001B[0m 16ms/step - accuracy: 0.9897 - loss: 0.0335 - val_accuracy: 0.9769 - val_loss: 0.0866\n",
      "Epoch 5/20\n",
      "\u001B[1m240/240\u001B[0m \u001B[32m━━━━━━━━━━━━━━━━━━━━\u001B[0m\u001B[37m\u001B[0m \u001B[1m5s\u001B[0m 20ms/step - accuracy: 0.9927 - loss: 0.0236 - val_accuracy: 0.9748 - val_loss: 0.0919\n",
      "Epoch 6/20\n",
      "\u001B[1m240/240\u001B[0m \u001B[32m━━━━━━━━━━━━━━━━━━━━\u001B[0m\u001B[37m\u001B[0m \u001B[1m5s\u001B[0m 19ms/step - accuracy: 0.9931 - loss: 0.0217 - val_accuracy: 0.9772 - val_loss: 0.0835\n",
      "Epoch 7/20\n",
      "\u001B[1m240/240\u001B[0m \u001B[32m━━━━━━━━━━━━━━━━━━━━\u001B[0m\u001B[37m\u001B[0m \u001B[1m5s\u001B[0m 20ms/step - accuracy: 0.9964 - loss: 0.0130 - val_accuracy: 0.9732 - val_loss: 0.1033\n",
      "Epoch 8/20\n",
      "\u001B[1m240/240\u001B[0m \u001B[32m━━━━━━━━━━━━━━━━━━━━\u001B[0m\u001B[37m\u001B[0m \u001B[1m5s\u001B[0m 21ms/step - accuracy: 0.9951 - loss: 0.0156 - val_accuracy: 0.9762 - val_loss: 0.0979\n",
      "Epoch 9/20\n",
      "\u001B[1m240/240\u001B[0m \u001B[32m━━━━━━━━━━━━━━━━━━━━\u001B[0m\u001B[37m\u001B[0m \u001B[1m5s\u001B[0m 22ms/step - accuracy: 0.9962 - loss: 0.0115 - val_accuracy: 0.9775 - val_loss: 0.1109\n",
      "Epoch 10/20\n",
      "\u001B[1m240/240\u001B[0m \u001B[32m━━━━━━━━━━━━━━━━━━━━\u001B[0m\u001B[37m\u001B[0m \u001B[1m4s\u001B[0m 18ms/step - accuracy: 0.9958 - loss: 0.0125 - val_accuracy: 0.9789 - val_loss: 0.0913\n",
      "Epoch 11/20\n",
      "\u001B[1m240/240\u001B[0m \u001B[32m━━━━━━━━━━━━━━━━━━━━\u001B[0m\u001B[37m\u001B[0m \u001B[1m4s\u001B[0m 18ms/step - accuracy: 0.9965 - loss: 0.0109 - val_accuracy: 0.9784 - val_loss: 0.0941\n",
      "Epoch 12/20\n",
      "\u001B[1m240/240\u001B[0m \u001B[32m━━━━━━━━━━━━━━━━━━━━\u001B[0m\u001B[37m\u001B[0m \u001B[1m4s\u001B[0m 18ms/step - accuracy: 0.9968 - loss: 0.0088 - val_accuracy: 0.9785 - val_loss: 0.1061\n",
      "Epoch 13/20\n",
      "\u001B[1m240/240\u001B[0m \u001B[32m━━━━━━━━━━━━━━━━━━━━\u001B[0m\u001B[37m\u001B[0m \u001B[1m6s\u001B[0m 23ms/step - accuracy: 0.9977 - loss: 0.0081 - val_accuracy: 0.9763 - val_loss: 0.1122\n",
      "Epoch 14/20\n",
      "\u001B[1m240/240\u001B[0m \u001B[32m━━━━━━━━━━━━━━━━━━━━\u001B[0m\u001B[37m\u001B[0m \u001B[1m5s\u001B[0m 20ms/step - accuracy: 0.9959 - loss: 0.0128 - val_accuracy: 0.9784 - val_loss: 0.1080\n",
      "Epoch 15/20\n",
      "\u001B[1m240/240\u001B[0m \u001B[32m━━━━━━━━━━━━━━━━━━━━\u001B[0m\u001B[37m\u001B[0m \u001B[1m5s\u001B[0m 22ms/step - accuracy: 0.9977 - loss: 0.0063 - val_accuracy: 0.9792 - val_loss: 0.1074\n",
      "Epoch 16/20\n",
      "\u001B[1m240/240\u001B[0m \u001B[32m━━━━━━━━━━━━━━━━━━━━\u001B[0m\u001B[37m\u001B[0m \u001B[1m6s\u001B[0m 24ms/step - accuracy: 0.9978 - loss: 0.0062 - val_accuracy: 0.9776 - val_loss: 0.1185\n",
      "Epoch 17/20\n",
      "\u001B[1m240/240\u001B[0m \u001B[32m━━━━━━━━━━━━━━━━━━━━\u001B[0m\u001B[37m\u001B[0m \u001B[1m5s\u001B[0m 20ms/step - accuracy: 0.9974 - loss: 0.0070 - val_accuracy: 0.9765 - val_loss: 0.1443\n",
      "Epoch 18/20\n",
      "\u001B[1m240/240\u001B[0m \u001B[32m━━━━━━━━━━━━━━━━━━━━\u001B[0m\u001B[37m\u001B[0m \u001B[1m5s\u001B[0m 19ms/step - accuracy: 0.9971 - loss: 0.0075 - val_accuracy: 0.9783 - val_loss: 0.1140\n",
      "Epoch 19/20\n",
      "\u001B[1m240/240\u001B[0m \u001B[32m━━━━━━━━━━━━━━━━━━━━\u001B[0m\u001B[37m\u001B[0m \u001B[1m6s\u001B[0m 25ms/step - accuracy: 0.9973 - loss: 0.0075 - val_accuracy: 0.9771 - val_loss: 0.1210\n",
      "Epoch 20/20\n",
      "\u001B[1m240/240\u001B[0m \u001B[32m━━━━━━━━━━━━━━━━━━━━\u001B[0m\u001B[37m\u001B[0m \u001B[1m6s\u001B[0m 23ms/step - accuracy: 0.9974 - loss: 0.0094 - val_accuracy: 0.9794 - val_loss: 0.1100\n"
     ]
    },
    {
     "data": {
      "text/plain": [
       "<keras.src.callbacks.history.History at 0x1c001f08c80>"
      ]
     },
     "execution_count": 155,
     "metadata": {},
     "output_type": "execute_result"
    }
   ],
   "execution_count": 155
  },
  {
   "metadata": {
    "ExecuteTime": {
     "end_time": "2025-02-11T12:31:52.262535Z",
     "start_time": "2025-02-11T12:31:51.362830Z"
    }
   },
   "cell_type": "code",
   "source": [
    "scores = model.evaluate(x_test, y_test, verbose=0)\n",
    "print(\"Точность работы на тестовых данных: %.2f%%\" % (scores[1]*100))"
   ],
   "id": "2b8f42fa1db0267b",
   "outputs": [
    {
     "name": "stdout",
     "output_type": "stream",
     "text": [
      "Точность работы на тестовых данных: 98.02%\n"
     ]
    }
   ],
   "execution_count": 159
  },
  {
   "metadata": {
    "ExecuteTime": {
     "end_time": "2025-02-11T12:31:55.249672Z",
     "start_time": "2025-02-11T12:31:55.189179Z"
    }
   },
   "cell_type": "code",
   "source": "model.save(\"mnist_dense.h5\")",
   "id": "8f71c470ec8985da",
   "outputs": [
    {
     "name": "stderr",
     "output_type": "stream",
     "text": [
      "WARNING:absl:You are saving your model as an HDF5 file via `model.save()` or `keras.saving.save_model(model)`. This file format is considered legacy. We recommend using instead the native Keras format, e.g. `model.save('my_model.keras')` or `keras.saving.save_model(model, 'my_model.keras')`. \n"
     ]
    }
   ],
   "execution_count": 160
  }
 ],
 "metadata": {
  "kernelspec": {
   "display_name": "Python 3",
   "language": "python",
   "name": "python3"
  },
  "language_info": {
   "codemirror_mode": {
    "name": "ipython",
    "version": 2
   },
   "file_extension": ".py",
   "mimetype": "text/x-python",
   "name": "python",
   "nbconvert_exporter": "python",
   "pygments_lexer": "ipython2",
   "version": "2.7.6"
  }
 },
 "nbformat": 4,
 "nbformat_minor": 5
}
