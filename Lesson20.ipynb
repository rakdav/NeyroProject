{
 "cells": [
  {
   "cell_type": "code",
   "id": "initial_id",
   "metadata": {
    "collapsed": true,
    "ExecuteTime": {
     "end_time": "2025-02-14T11:09:25.345074Z",
     "start_time": "2025-02-14T11:09:25.328580Z"
    }
   },
   "source": [
    "import os\n",
    "import shutil"
   ],
   "outputs": [],
   "execution_count": 2
  },
  {
   "metadata": {
    "ExecuteTime": {
     "end_time": "2025-02-14T11:10:54.375390Z",
     "start_time": "2025-02-14T11:10:54.365825Z"
    }
   },
   "cell_type": "code",
   "source": [
    "data_dir='datasets/train'\n",
    "train_dir='train'\n",
    "val_dir='val'\n",
    "test_dir='test'\n",
    "test_data_portion=0.15\n",
    "val_data_portion=0.15\n",
    "nb_images=12500"
   ],
   "id": "bb9964b56b3ff98a",
   "outputs": [],
   "execution_count": 3
  },
  {
   "metadata": {
    "ExecuteTime": {
     "end_time": "2025-02-14T11:18:58.718429Z",
     "start_time": "2025-02-14T11:18:58.712513Z"
    }
   },
   "cell_type": "code",
   "source": [
    "def create_directory(dir_name):\n",
    "    if os.path.exists(dir_name):\n",
    "        shutil.rmtree(dir_name)\n",
    "    os.makedirs(dir_name)\n",
    "    os.makedirs(os.path.join(dir_name, \"cats\"))\n",
    "    os.makedirs(os.path.join(dir_name, \"dogs\"))"
   ],
   "id": "8fe52bc3013f9199",
   "outputs": [],
   "execution_count": 5
  },
  {
   "metadata": {
    "ExecuteTime": {
     "end_time": "2025-02-14T11:19:00.181725Z",
     "start_time": "2025-02-14T11:19:00.168162Z"
    }
   },
   "cell_type": "code",
   "source": [
    "create_directory(train_dir)\n",
    "create_directory(val_dir)\n",
    "create_directory(test_dir)"
   ],
   "id": "d7c77c2f4713a33c",
   "outputs": [],
   "execution_count": 6
  },
  {
   "metadata": {
    "ExecuteTime": {
     "end_time": "2025-02-14T11:22:35.081644Z",
     "start_time": "2025-02-14T11:22:35.069411Z"
    }
   },
   "cell_type": "code",
   "source": [
    "def copy_images(start_index, end_index,source_dir,dest_dir):\n",
    "    for i in range(start_index,end_index):\n",
    "        shutil.copy2(os.path.join(source_dir,\"cat.\"+str(i)+\".jpg\"),os.path.join(dest_dir,\"cats\"))\n",
    "        shutil.copy2(os.path.join(source_dir,\"dog.\"+str(i)+\".jpg\"),os.path.join(dest_dir,\"dogs\"))"
   ],
   "id": "267d191e94795525",
   "outputs": [],
   "execution_count": 7
  },
  {
   "metadata": {
    "ExecuteTime": {
     "end_time": "2025-02-14T11:25:22.967897Z",
     "start_time": "2025-02-14T11:25:22.938353Z"
    }
   },
   "cell_type": "code",
   "source": [
    "start_val_data_index=int(nb_images*(1-val_data_portion-test_data_portion))\n",
    "start_test_data_index=int(nb_images*(1-test_data_portion))\n",
    "print(start_val_data_index)\n",
    "print(start_test_data_index)"
   ],
   "id": "996a2cfa67d57e50",
   "outputs": [
    {
     "name": "stdout",
     "output_type": "stream",
     "text": [
      "8750\n",
      "10625\n"
     ]
    }
   ],
   "execution_count": 8
  },
  {
   "metadata": {
    "ExecuteTime": {
     "end_time": "2025-02-14T11:33:57.461125Z",
     "start_time": "2025-02-14T11:33:22.199667Z"
    }
   },
   "cell_type": "code",
   "source": [
    "copy_images(0,start_val_data_index,data_dir,train_dir)\n",
    "copy_images(start_val_data_index,start_test_data_index,data_dir,val_dir)\n",
    "copy_images(start_test_data_index,nb_images,data_dir,test_dir)   "
   ],
   "id": "feb19ac31d317496",
   "outputs": [],
   "execution_count": 10
  }
 ],
 "metadata": {
  "kernelspec": {
   "display_name": "Python 3",
   "language": "python",
   "name": "python3"
  },
  "language_info": {
   "codemirror_mode": {
    "name": "ipython",
    "version": 2
   },
   "file_extension": ".py",
   "mimetype": "text/x-python",
   "name": "python",
   "nbconvert_exporter": "python",
   "pygments_lexer": "ipython2",
   "version": "2.7.6"
  }
 },
 "nbformat": 4,
 "nbformat_minor": 5
}
