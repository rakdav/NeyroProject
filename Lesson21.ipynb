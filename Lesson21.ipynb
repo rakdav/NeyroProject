{
 "cells": [
  {
   "cell_type": "code",
   "id": "initial_id",
   "metadata": {
    "collapsed": true,
    "ExecuteTime": {
     "end_time": "2025-02-14T12:02:04.720233Z",
     "start_time": "2025-02-14T12:02:04.678106Z"
    }
   },
   "source": [
    "from keras import preprocessing,Sequential, layers\n",
    "from keras.src.layers import Conv2D, MaxPooling2D, Flatten, Dropout,Dense\n",
    "from keras.src.legacy.preprocessing.image import ImageDataGenerator"
   ],
   "outputs": [],
   "execution_count": 10
  },
  {
   "metadata": {
    "ExecuteTime": {
     "end_time": "2025-02-14T12:02:07.258533Z",
     "start_time": "2025-02-14T12:02:07.249840Z"
    }
   },
   "cell_type": "code",
   "source": [
    "train_dir='train'\n",
    "val_dir='val'\n",
    "test_dir='test'\n",
    "img_width, img_height = 150, 150\n",
    "input_shape = (img_width, img_height, 3)\n",
    "epochs=30\n",
    "batch_size=16\n",
    "nb_train_samples=17500\n",
    "nb_validation_samples=3750\n",
    "nb_test_samples=3750"
   ],
   "id": "9276007d5e9d39a9",
   "outputs": [],
   "execution_count": 11
  },
  {
   "metadata": {
    "ExecuteTime": {
     "end_time": "2025-02-14T12:02:11.353474Z",
     "start_time": "2025-02-14T12:02:11.087150Z"
    }
   },
   "cell_type": "code",
   "source": [
    "model=Sequential()\n",
    "model.add(Conv2D(32, kernel_size=(3, 3), activation='relu', input_shape=input_shape))\n",
    "model.add(MaxPooling2D(pool_size=(2, 2)))\n",
    "model.add(Conv2D(32, kernel_size=(3, 3), activation='relu'))\n",
    "model.add(MaxPooling2D(pool_size=(2, 2)))\n",
    "model.add(Conv2D(64, kernel_size=(3, 3), activation='relu'))\n",
    "model.add(MaxPooling2D(pool_size=(2, 2)))\n",
    "model.add(Flatten())\n",
    "model.add(Dense(64, activation='relu'))\n",
    "model.add(Dropout(0.5))\n",
    "model.add(Dense(1, activation='sigmoid'))"
   ],
   "id": "3b47e0c9e54e0c5d",
   "outputs": [],
   "execution_count": 12
  },
  {
   "metadata": {
    "ExecuteTime": {
     "end_time": "2025-02-14T12:02:14.071257Z",
     "start_time": "2025-02-14T12:02:14.056780Z"
    }
   },
   "cell_type": "code",
   "source": "model.compile(loss='binary_crossentropy', optimizer='adam', metrics=['accuracy'])",
   "id": "d25ec81b72420b18",
   "outputs": [],
   "execution_count": 13
  },
  {
   "metadata": {
    "ExecuteTime": {
     "end_time": "2025-02-14T12:02:15.541674Z",
     "start_time": "2025-02-14T12:02:15.530403Z"
    }
   },
   "cell_type": "code",
   "source": "datagen=ImageDataGenerator(rescale=1./255)",
   "id": "d556385797fe6ad3",
   "outputs": [],
   "execution_count": 14
  },
  {
   "metadata": {
    "ExecuteTime": {
     "end_time": "2025-02-14T12:03:10.624267Z",
     "start_time": "2025-02-14T12:03:09.587314Z"
    }
   },
   "cell_type": "code",
   "source": "train_generator=datagen.flow_from_directory(train_dir,target_size=(img_width, img_height),batch_size=batch_size,class_mode='binary')",
   "id": "56ce78e5b54b3cf",
   "outputs": [
    {
     "name": "stdout",
     "output_type": "stream",
     "text": [
      "Found 17500 images belonging to 2 classes.\n"
     ]
    }
   ],
   "execution_count": 15
  },
  {
   "metadata": {
    "ExecuteTime": {
     "end_time": "2025-02-14T12:04:18.607344Z",
     "start_time": "2025-02-14T12:04:18.394249Z"
    }
   },
   "cell_type": "code",
   "source": "val_generator=datagen.flow_from_directory(val_dir,target_size=(img_width, img_height),batch_size=batch_size,class_mode='binary')",
   "id": "8480d78cb528f473",
   "outputs": [
    {
     "name": "stdout",
     "output_type": "stream",
     "text": [
      "Found 3750 images belonging to 2 classes.\n"
     ]
    }
   ],
   "execution_count": 16
  },
  {
   "metadata": {
    "ExecuteTime": {
     "end_time": "2025-02-14T12:04:50.803435Z",
     "start_time": "2025-02-14T12:04:50.676701Z"
    }
   },
   "cell_type": "code",
   "source": "test_generator=datagen.flow_from_directory(test_dir,target_size=(img_width, img_height),batch_size=batch_size,class_mode='binary')",
   "id": "34cd4026e3e3a235",
   "outputs": [
    {
     "name": "stdout",
     "output_type": "stream",
     "text": [
      "Found 3750 images belonging to 2 classes.\n"
     ]
    }
   ],
   "execution_count": 17
  },
  {
   "metadata": {
    "ExecuteTime": {
     "end_time": "2025-02-14T13:12:02.501388Z",
     "start_time": "2025-02-14T12:09:16.631411Z"
    }
   },
   "cell_type": "code",
   "source": "model.fit(train_generator,steps_per_epoch=nb_train_samples//batch_size,epochs=epochs,validation_data=val_generator,validation_steps=nb_validation_samples//batch_size)",
   "id": "1f6419a5eb9978a2",
   "outputs": [
    {
     "name": "stderr",
     "output_type": "stream",
     "text": [
      "C:\\Users\\administrator\\tensorflow\\pythonProject1\\.venv\\Lib\\site-packages\\keras\\src\\trainers\\data_adapters\\py_dataset_adapter.py:121: UserWarning: Your `PyDataset` class should call `super().__init__(**kwargs)` in its constructor. `**kwargs` can include `workers`, `use_multiprocessing`, `max_queue_size`. Do not pass these arguments to `fit()`, as they will be ignored.\n",
      "  self._warn_if_super_not_called()\n"
     ]
    },
    {
     "name": "stdout",
     "output_type": "stream",
     "text": [
      "Epoch 1/30\n",
      "\u001B[1m1093/1093\u001B[0m \u001B[32m━━━━━━━━━━━━━━━━━━━━\u001B[0m\u001B[37m\u001B[0m \u001B[1m344s\u001B[0m 313ms/step - accuracy: 0.5670 - loss: 0.6789 - val_accuracy: 0.6862 - val_loss: 0.5962\n",
      "Epoch 2/30\n",
      "\u001B[1m   1/1093\u001B[0m \u001B[37m━━━━━━━━━━━━━━━━━━━━\u001B[0m \u001B[1m2:43\u001B[0m 149ms/step - accuracy: 0.6875 - loss: 0.5062"
     ]
    },
    {
     "name": "stderr",
     "output_type": "stream",
     "text": [
      "C:\\Users\\administrator\\tensorflow\\pythonProject1\\.venv\\Lib\\site-packages\\keras\\src\\trainers\\epoch_iterator.py:107: UserWarning: Your input ran out of data; interrupting training. Make sure that your dataset or generator can generate at least `steps_per_epoch * epochs` batches. You may need to use the `.repeat()` function when building your dataset.\n",
      "  self._interrupted_warning()\n"
     ]
    },
    {
     "name": "stdout",
     "output_type": "stream",
     "text": [
      "\u001B[1m1093/1093\u001B[0m \u001B[32m━━━━━━━━━━━━━━━━━━━━\u001B[0m\u001B[37m\u001B[0m \u001B[1m9s\u001B[0m 8ms/step - accuracy: 0.6875 - loss: 0.5062 - val_accuracy: 0.6755 - val_loss: 0.6019\n",
      "Epoch 3/30\n",
      "\u001B[1m1093/1093\u001B[0m \u001B[32m━━━━━━━━━━━━━━━━━━━━\u001B[0m\u001B[37m\u001B[0m \u001B[1m152s\u001B[0m 139ms/step - accuracy: 0.7022 - loss: 0.5654 - val_accuracy: 0.7642 - val_loss: 0.4988\n",
      "Epoch 4/30\n",
      "\u001B[1m1093/1093\u001B[0m \u001B[32m━━━━━━━━━━━━━━━━━━━━\u001B[0m\u001B[37m\u001B[0m \u001B[1m9s\u001B[0m 8ms/step - accuracy: 0.8125 - loss: 0.4318 - val_accuracy: 0.7631 - val_loss: 0.4978\n",
      "Epoch 5/30\n",
      "\u001B[1m1093/1093\u001B[0m \u001B[32m━━━━━━━━━━━━━━━━━━━━\u001B[0m\u001B[37m\u001B[0m \u001B[1m162s\u001B[0m 148ms/step - accuracy: 0.7736 - loss: 0.4821 - val_accuracy: 0.7831 - val_loss: 0.4486\n",
      "Epoch 6/30\n",
      "\u001B[1m1093/1093\u001B[0m \u001B[32m━━━━━━━━━━━━━━━━━━━━\u001B[0m\u001B[37m\u001B[0m \u001B[1m9s\u001B[0m 8ms/step - accuracy: 0.8125 - loss: 0.3841 - val_accuracy: 0.7810 - val_loss: 0.4527\n",
      "Epoch 7/30\n",
      "\u001B[1m1093/1093\u001B[0m \u001B[32m━━━━━━━━━━━━━━━━━━━━\u001B[0m\u001B[37m\u001B[0m \u001B[1m178s\u001B[0m 162ms/step - accuracy: 0.7985 - loss: 0.4408 - val_accuracy: 0.8133 - val_loss: 0.4063\n",
      "Epoch 8/30\n",
      "\u001B[1m1093/1093\u001B[0m \u001B[32m━━━━━━━━━━━━━━━━━━━━\u001B[0m\u001B[37m\u001B[0m \u001B[1m9s\u001B[0m 8ms/step - accuracy: 0.8750 - loss: 0.3400 - val_accuracy: 0.8122 - val_loss: 0.4094\n",
      "Epoch 9/30\n",
      "\u001B[1m1093/1093\u001B[0m \u001B[32m━━━━━━━━━━━━━━━━━━━━\u001B[0m\u001B[37m\u001B[0m \u001B[1m157s\u001B[0m 143ms/step - accuracy: 0.8310 - loss: 0.3811 - val_accuracy: 0.8186 - val_loss: 0.4013\n",
      "Epoch 10/30\n",
      "\u001B[1m1093/1093\u001B[0m \u001B[32m━━━━━━━━━━━━━━━━━━━━\u001B[0m\u001B[37m\u001B[0m \u001B[1m11s\u001B[0m 10ms/step - accuracy: 0.7500 - loss: 0.5384 - val_accuracy: 0.8192 - val_loss: 0.3981\n",
      "Epoch 11/30\n",
      "\u001B[1m1093/1093\u001B[0m \u001B[32m━━━━━━━━━━━━━━━━━━━━\u001B[0m\u001B[37m\u001B[0m \u001B[1m234s\u001B[0m 214ms/step - accuracy: 0.8523 - loss: 0.3418 - val_accuracy: 0.8365 - val_loss: 0.3810\n",
      "Epoch 12/30\n",
      "\u001B[1m1093/1093\u001B[0m \u001B[32m━━━━━━━━━━━━━━━━━━━━\u001B[0m\u001B[37m\u001B[0m \u001B[1m10s\u001B[0m 9ms/step - accuracy: 0.9375 - loss: 0.1494 - val_accuracy: 0.8333 - val_loss: 0.3826\n",
      "Epoch 13/30\n",
      "\u001B[1m1093/1093\u001B[0m \u001B[32m━━━━━━━━━━━━━━━━━━━━\u001B[0m\u001B[37m\u001B[0m \u001B[1m196s\u001B[0m 180ms/step - accuracy: 0.8751 - loss: 0.2939 - val_accuracy: 0.8315 - val_loss: 0.3888\n",
      "Epoch 14/30\n",
      "\u001B[1m1093/1093\u001B[0m \u001B[32m━━━━━━━━━━━━━━━━━━━━\u001B[0m\u001B[37m\u001B[0m \u001B[1m10s\u001B[0m 9ms/step - accuracy: 0.8125 - loss: 0.3741 - val_accuracy: 0.8307 - val_loss: 0.3916\n",
      "Epoch 15/30\n",
      "\u001B[1m1093/1093\u001B[0m \u001B[32m━━━━━━━━━━━━━━━━━━━━\u001B[0m\u001B[37m\u001B[0m \u001B[1m171s\u001B[0m 157ms/step - accuracy: 0.8963 - loss: 0.2436 - val_accuracy: 0.8291 - val_loss: 0.3991\n",
      "Epoch 16/30\n",
      "\u001B[1m1093/1093\u001B[0m \u001B[32m━━━━━━━━━━━━━━━━━━━━\u001B[0m\u001B[37m\u001B[0m \u001B[1m13s\u001B[0m 12ms/step - accuracy: 0.9375 - loss: 0.1954 - val_accuracy: 0.8293 - val_loss: 0.3954\n",
      "Epoch 17/30\n",
      "\u001B[1m1093/1093\u001B[0m \u001B[32m━━━━━━━━━━━━━━━━━━━━\u001B[0m\u001B[37m\u001B[0m \u001B[1m215s\u001B[0m 197ms/step - accuracy: 0.9126 - loss: 0.2141 - val_accuracy: 0.8299 - val_loss: 0.4447\n",
      "Epoch 18/30\n",
      "\u001B[1m1093/1093\u001B[0m \u001B[32m━━━━━━━━━━━━━━━━━━━━\u001B[0m\u001B[37m\u001B[0m \u001B[1m17s\u001B[0m 16ms/step - accuracy: 0.8125 - loss: 0.3972 - val_accuracy: 0.8320 - val_loss: 0.4413\n",
      "Epoch 19/30\n",
      "\u001B[1m1093/1093\u001B[0m \u001B[32m━━━━━━━━━━━━━━━━━━━━\u001B[0m\u001B[37m\u001B[0m \u001B[1m261s\u001B[0m 238ms/step - accuracy: 0.9266 - loss: 0.1744 - val_accuracy: 0.8317 - val_loss: 0.4493\n",
      "Epoch 20/30\n",
      "\u001B[1m1093/1093\u001B[0m \u001B[32m━━━━━━━━━━━━━━━━━━━━\u001B[0m\u001B[37m\u001B[0m \u001B[1m13s\u001B[0m 11ms/step - accuracy: 0.8750 - loss: 0.2925 - val_accuracy: 0.8317 - val_loss: 0.4447\n",
      "Epoch 21/30\n",
      "\u001B[1m1093/1093\u001B[0m \u001B[32m━━━━━━━━━━━━━━━━━━━━\u001B[0m\u001B[37m\u001B[0m \u001B[1m277s\u001B[0m 253ms/step - accuracy: 0.9358 - loss: 0.1538 - val_accuracy: 0.8371 - val_loss: 0.4899\n",
      "Epoch 22/30\n",
      "\u001B[1m1093/1093\u001B[0m \u001B[32m━━━━━━━━━━━━━━━━━━━━\u001B[0m\u001B[37m\u001B[0m \u001B[1m14s\u001B[0m 13ms/step - accuracy: 1.0000 - loss: 0.0221 - val_accuracy: 0.8341 - val_loss: 0.4856\n",
      "Epoch 23/30\n",
      "\u001B[1m1093/1093\u001B[0m \u001B[32m━━━━━━━━━━━━━━━━━━━━\u001B[0m\u001B[37m\u001B[0m \u001B[1m426s\u001B[0m 390ms/step - accuracy: 0.9435 - loss: 0.1336 - val_accuracy: 0.8261 - val_loss: 0.5645\n",
      "Epoch 24/30\n",
      "\u001B[1m1093/1093\u001B[0m \u001B[32m━━━━━━━━━━━━━━━━━━━━\u001B[0m\u001B[37m\u001B[0m \u001B[1m18s\u001B[0m 16ms/step - accuracy: 1.0000 - loss: 0.0641 - val_accuracy: 0.8253 - val_loss: 0.5600\n",
      "Epoch 25/30\n",
      "\u001B[1m1093/1093\u001B[0m \u001B[32m━━━━━━━━━━━━━━━━━━━━\u001B[0m\u001B[37m\u001B[0m \u001B[1m319s\u001B[0m 292ms/step - accuracy: 0.9532 - loss: 0.1170 - val_accuracy: 0.8235 - val_loss: 0.5760\n",
      "Epoch 26/30\n",
      "\u001B[1m1093/1093\u001B[0m \u001B[32m━━━━━━━━━━━━━━━━━━━━\u001B[0m\u001B[37m\u001B[0m \u001B[1m15s\u001B[0m 13ms/step - accuracy: 1.0000 - loss: 0.0784 - val_accuracy: 0.8226 - val_loss: 0.5839\n",
      "Epoch 27/30\n",
      "\u001B[1m1093/1093\u001B[0m \u001B[32m━━━━━━━━━━━━━━━━━━━━\u001B[0m\u001B[37m\u001B[0m \u001B[1m242s\u001B[0m 221ms/step - accuracy: 0.9572 - loss: 0.1069 - val_accuracy: 0.8259 - val_loss: 0.6821\n",
      "Epoch 28/30\n",
      "\u001B[1m1093/1093\u001B[0m \u001B[32m━━━━━━━━━━━━━━━━━━━━\u001B[0m\u001B[37m\u001B[0m \u001B[1m14s\u001B[0m 12ms/step - accuracy: 0.9375 - loss: 0.1888 - val_accuracy: 0.8283 - val_loss: 0.6746\n",
      "Epoch 29/30\n",
      "\u001B[1m1093/1093\u001B[0m \u001B[32m━━━━━━━━━━━━━━━━━━━━\u001B[0m\u001B[37m\u001B[0m \u001B[1m247s\u001B[0m 226ms/step - accuracy: 0.9532 - loss: 0.1100 - val_accuracy: 0.8296 - val_loss: 0.6709\n",
      "Epoch 30/30\n",
      "\u001B[1m1093/1093\u001B[0m \u001B[32m━━━━━━━━━━━━━━━━━━━━\u001B[0m\u001B[37m\u001B[0m \u001B[1m15s\u001B[0m 14ms/step - accuracy: 1.0000 - loss: 0.0678 - val_accuracy: 0.8304 - val_loss: 0.6698\n"
     ]
    },
    {
     "data": {
      "text/plain": [
       "<keras.src.callbacks.history.History at 0x1a28b47b470>"
      ]
     },
     "execution_count": 19,
     "metadata": {},
     "output_type": "execute_result"
    }
   ],
   "execution_count": 19
  },
  {
   "metadata": {},
   "cell_type": "code",
   "outputs": [],
   "execution_count": null,
   "source": [
    "scores=model.evaluate(test_generator,nb_test_samples//batch_size)\n",
    "print(\"Аккуратность на тестовых данных: %.2f%%\" % (scores[1]*100))"
   ],
   "id": "c42e626118a01e34"
  }
 ],
 "metadata": {
  "kernelspec": {
   "display_name": "Python 3",
   "language": "python",
   "name": "python3"
  },
  "language_info": {
   "codemirror_mode": {
    "name": "ipython",
    "version": 2
   },
   "file_extension": ".py",
   "mimetype": "text/x-python",
   "name": "python",
   "nbconvert_exporter": "python",
   "pygments_lexer": "ipython2",
   "version": "2.7.6"
  }
 },
 "nbformat": 4,
 "nbformat_minor": 5
}
