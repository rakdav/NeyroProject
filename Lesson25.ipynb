{
 "cells": [
  {
   "cell_type": "code",
   "id": "initial_id",
   "metadata": {
    "collapsed": true,
    "ExecuteTime": {
     "end_time": "2025-02-17T09:05:48.683132Z",
     "start_time": "2025-02-17T09:05:48.670918Z"
    }
   },
   "source": [
    "import dlib\n",
    "from skimage import io\n",
    "from scipy.spatial import distance\n",
    "\n",
    "from dlib.python_examples.face_clustering import face_descriptor"
   ],
   "outputs": [],
   "execution_count": 26
  },
  {
   "metadata": {
    "ExecuteTime": {
     "end_time": "2025-02-17T09:05:53.348284Z",
     "start_time": "2025-02-17T09:05:50.037454Z"
    }
   },
   "cell_type": "code",
   "source": [
    "sp=dlib.shape_predictor(\"shape_predictor_68_face_landmarks.dat\")\n",
    "facerec=dlib.face_recognition_model_v1(\"dlib_face_recognition_resnet_model_v1.dat\")\n",
    "detector=dlib.get_frontal_face_detector()"
   ],
   "id": "5937b2f25df8d54e",
   "outputs": [],
   "execution_count": 27
  },
  {
   "metadata": {
    "ExecuteTime": {
     "end_time": "2025-02-17T09:05:53.368879Z",
     "start_time": "2025-02-17T09:05:53.348284Z"
    }
   },
   "cell_type": "code",
   "source": "img=io.imread(\"defo1.jpg\")",
   "id": "5d029ceedd6c56f0",
   "outputs": [],
   "execution_count": 28
  },
  {
   "metadata": {
    "ExecuteTime": {
     "end_time": "2025-02-17T09:06:09.610646Z",
     "start_time": "2025-02-17T09:06:09.566389Z"
    }
   },
   "cell_type": "code",
   "source": [
    "win1=dlib.image_window()\n",
    "win1.clear_overlay()\n",
    "win1.set_image(img)"
   ],
   "id": "2b2b0fdd7930b344",
   "outputs": [
    {
     "ename": "TypeError",
     "evalue": "set_image(): incompatible function arguments. The following argument types are supported:\n    1. (self: _dlib_pybind11.image_window, detector: _dlib_pybind11.simple_object_detector) -> None\n    2. (self: _dlib_pybind11.image_window, detector: _dlib_pybind11.fhog_object_detector) -> None\n    3. (self: _dlib_pybind11.image_window, image: numpy.ndarray[(rows,cols),  numpy.uint8]) -> None\n    4. (self: _dlib_pybind11.image_window, image: numpy.ndarray[(rows,cols),  numpy.uint16]) -> None\n    5. (self: _dlib_pybind11.image_window, image: numpy.ndarray[(rows,cols),  numpy.uint32]) -> None\n    6. (self: _dlib_pybind11.image_window, image: numpy.ndarray[(rows,cols),  numpy.uint64]) -> None\n    7. (self: _dlib_pybind11.image_window, image: numpy.ndarray[(rows,cols),  numpy.int8]) -> None\n    8. (self: _dlib_pybind11.image_window, image: numpy.ndarray[(rows,cols),  numpy.int16]) -> None\n    9. (self: _dlib_pybind11.image_window, image: numpy.ndarray[(rows,cols),  numpy.int32]) -> None\n    10. (self: _dlib_pybind11.image_window, image: numpy.ndarray[(rows,cols),  numpy.int64]) -> None\n    11. (self: _dlib_pybind11.image_window, image: numpy.ndarray[(rows,cols),  numpy.float32]) -> None\n    12. (self: _dlib_pybind11.image_window, image: numpy.ndarray[(rows,cols),  numpy.float64]) -> None\n    13. (self: _dlib_pybind11.image_window, image: numpy.ndarray[(rows,cols,3),numpy.uint8]) -> None\n\nInvoked with: <_dlib_pybind11.image_window object at 0x00000115F3CB1EF0>, array([[[121, 136, 131],\n        [123, 138, 133],\n        [124, 139, 134],\n        ...,\n        [113, 125, 121],\n        [115, 127, 123],\n        [115, 127, 123]],\n\n       [[120, 135, 130],\n        [121, 136, 131],\n        [121, 136, 131],\n        ...,\n        [111, 123, 119],\n        [111, 123, 119],\n        [112, 124, 120]],\n\n       [[121, 136, 131],\n        [122, 137, 132],\n        [121, 136, 131],\n        ...,\n        [107, 119, 115],\n        [106, 118, 114],\n        [105, 117, 113]],\n\n       ...,\n\n       [[  2,   0,   3],\n        [  1,   0,   2],\n        [  1,   0,   2],\n        ...,\n        [  2,   0,   5],\n        [  2,   0,   5],\n        [  2,   0,   5]],\n\n       [[  1,   1,   1],\n        [  0,   0,   0],\n        [  0,   0,   0],\n        ...,\n        [  0,   0,   2],\n        [  0,   0,   2],\n        [  0,   0,   2]],\n\n       [[  3,   3,   3],\n        [  2,   2,   2],\n        [  1,   1,   1],\n        ...,\n        [  1,   1,   1],\n        [  1,   1,   3],\n        [  1,   1,   3]]], dtype=uint8)",
     "output_type": "error",
     "traceback": [
      "\u001B[1;31m---------------------------------------------------------------------------\u001B[0m",
      "\u001B[1;31mTypeError\u001B[0m                                 Traceback (most recent call last)",
      "Cell \u001B[1;32mIn[30], line 3\u001B[0m\n\u001B[0;32m      1\u001B[0m win1\u001B[38;5;241m=\u001B[39mdlib\u001B[38;5;241m.\u001B[39mimage_window()\n\u001B[0;32m      2\u001B[0m win1\u001B[38;5;241m.\u001B[39mclear_overlay()\n\u001B[1;32m----> 3\u001B[0m \u001B[43mwin1\u001B[49m\u001B[38;5;241;43m.\u001B[39;49m\u001B[43mset_image\u001B[49m\u001B[43m(\u001B[49m\u001B[43mimg\u001B[49m\u001B[43m)\u001B[49m\n",
      "\u001B[1;31mTypeError\u001B[0m: set_image(): incompatible function arguments. The following argument types are supported:\n    1. (self: _dlib_pybind11.image_window, detector: _dlib_pybind11.simple_object_detector) -> None\n    2. (self: _dlib_pybind11.image_window, detector: _dlib_pybind11.fhog_object_detector) -> None\n    3. (self: _dlib_pybind11.image_window, image: numpy.ndarray[(rows,cols),  numpy.uint8]) -> None\n    4. (self: _dlib_pybind11.image_window, image: numpy.ndarray[(rows,cols),  numpy.uint16]) -> None\n    5. (self: _dlib_pybind11.image_window, image: numpy.ndarray[(rows,cols),  numpy.uint32]) -> None\n    6. (self: _dlib_pybind11.image_window, image: numpy.ndarray[(rows,cols),  numpy.uint64]) -> None\n    7. (self: _dlib_pybind11.image_window, image: numpy.ndarray[(rows,cols),  numpy.int8]) -> None\n    8. (self: _dlib_pybind11.image_window, image: numpy.ndarray[(rows,cols),  numpy.int16]) -> None\n    9. (self: _dlib_pybind11.image_window, image: numpy.ndarray[(rows,cols),  numpy.int32]) -> None\n    10. (self: _dlib_pybind11.image_window, image: numpy.ndarray[(rows,cols),  numpy.int64]) -> None\n    11. (self: _dlib_pybind11.image_window, image: numpy.ndarray[(rows,cols),  numpy.float32]) -> None\n    12. (self: _dlib_pybind11.image_window, image: numpy.ndarray[(rows,cols),  numpy.float64]) -> None\n    13. (self: _dlib_pybind11.image_window, image: numpy.ndarray[(rows,cols,3),numpy.uint8]) -> None\n\nInvoked with: <_dlib_pybind11.image_window object at 0x00000115F3CB1EF0>, array([[[121, 136, 131],\n        [123, 138, 133],\n        [124, 139, 134],\n        ...,\n        [113, 125, 121],\n        [115, 127, 123],\n        [115, 127, 123]],\n\n       [[120, 135, 130],\n        [121, 136, 131],\n        [121, 136, 131],\n        ...,\n        [111, 123, 119],\n        [111, 123, 119],\n        [112, 124, 120]],\n\n       [[121, 136, 131],\n        [122, 137, 132],\n        [121, 136, 131],\n        ...,\n        [107, 119, 115],\n        [106, 118, 114],\n        [105, 117, 113]],\n\n       ...,\n\n       [[  2,   0,   3],\n        [  1,   0,   2],\n        [  1,   0,   2],\n        ...,\n        [  2,   0,   5],\n        [  2,   0,   5],\n        [  2,   0,   5]],\n\n       [[  1,   1,   1],\n        [  0,   0,   0],\n        [  0,   0,   0],\n        ...,\n        [  0,   0,   2],\n        [  0,   0,   2],\n        [  0,   0,   2]],\n\n       [[  3,   3,   3],\n        [  2,   2,   2],\n        [  1,   1,   1],\n        ...,\n        [  1,   1,   1],\n        [  1,   1,   3],\n        [  1,   1,   3]]], dtype=uint8)"
     ]
    }
   ],
   "execution_count": 30
  },
  {
   "metadata": {
    "ExecuteTime": {
     "end_time": "2025-02-17T09:09:29.079409Z",
     "start_time": "2025-02-17T09:09:29.051253Z"
    }
   },
   "cell_type": "code",
   "source": "dets=detector(img, 1)",
   "id": "d730d1955bb6f063",
   "outputs": [
    {
     "ename": "RuntimeError",
     "evalue": "Unsupported image type, must be 8bit gray or RGB image.",
     "output_type": "error",
     "traceback": [
      "\u001B[1;31m---------------------------------------------------------------------------\u001B[0m",
      "\u001B[1;31mRuntimeError\u001B[0m                              Traceback (most recent call last)",
      "Cell \u001B[1;32mIn[33], line 1\u001B[0m\n\u001B[1;32m----> 1\u001B[0m dets\u001B[38;5;241m=\u001B[39m\u001B[43mdetector\u001B[49m\u001B[43m(\u001B[49m\u001B[43mimg\u001B[49m\u001B[43m,\u001B[49m\u001B[43m \u001B[49m\u001B[38;5;241;43m1\u001B[39;49m\u001B[43m)\u001B[49m\n",
      "\u001B[1;31mRuntimeError\u001B[0m: Unsupported image type, must be 8bit gray or RGB image."
     ]
    }
   ],
   "execution_count": 33
  },
  {
   "metadata": {
    "ExecuteTime": {
     "end_time": "2025-02-17T09:09:30.425380Z",
     "start_time": "2025-02-17T09:09:30.395986Z"
    }
   },
   "cell_type": "code",
   "source": [
    "for k,d in enumerate(dets):\n",
    "    print(\"Detection {}: Left: {} Top: {} Right: {} Bottom: {}\"\n",
    "          .format(k,d.left(),d.top(),d.right(),d.bottom()))\n",
    "    shape=sp(img,d)\n",
    "    win1.clear_overlay()\n",
    "    win1.add_overlay(d)\n",
    "    win1.add_overlay(shape)"
   ],
   "id": "dcf83319f5c78092",
   "outputs": [
    {
     "ename": "NameError",
     "evalue": "name 'dets' is not defined",
     "output_type": "error",
     "traceback": [
      "\u001B[1;31m---------------------------------------------------------------------------\u001B[0m",
      "\u001B[1;31mNameError\u001B[0m                                 Traceback (most recent call last)",
      "Cell \u001B[1;32mIn[34], line 1\u001B[0m\n\u001B[1;32m----> 1\u001B[0m \u001B[38;5;28;01mfor\u001B[39;00m k,d \u001B[38;5;129;01min\u001B[39;00m \u001B[38;5;28menumerate\u001B[39m(\u001B[43mdets\u001B[49m):\n\u001B[0;32m      2\u001B[0m     \u001B[38;5;28mprint\u001B[39m(\u001B[38;5;124m\"\u001B[39m\u001B[38;5;124mDetection \u001B[39m\u001B[38;5;132;01m{}\u001B[39;00m\u001B[38;5;124m: Left: \u001B[39m\u001B[38;5;132;01m{}\u001B[39;00m\u001B[38;5;124m Top: \u001B[39m\u001B[38;5;132;01m{}\u001B[39;00m\u001B[38;5;124m Right: \u001B[39m\u001B[38;5;132;01m{}\u001B[39;00m\u001B[38;5;124m Bottom: \u001B[39m\u001B[38;5;132;01m{}\u001B[39;00m\u001B[38;5;124m\"\u001B[39m\n\u001B[0;32m      3\u001B[0m           \u001B[38;5;241m.\u001B[39mformat(k,d\u001B[38;5;241m.\u001B[39mleft(),d\u001B[38;5;241m.\u001B[39mtop(),d\u001B[38;5;241m.\u001B[39mright(),d\u001B[38;5;241m.\u001B[39mbottom()))\n\u001B[0;32m      4\u001B[0m     shape\u001B[38;5;241m=\u001B[39msp(img,d)\n",
      "\u001B[1;31mNameError\u001B[0m: name 'dets' is not defined"
     ]
    }
   ],
   "execution_count": 34
  },
  {
   "metadata": {
    "ExecuteTime": {
     "end_time": "2025-02-17T09:10:21.895795Z",
     "start_time": "2025-02-17T09:10:21.867053Z"
    }
   },
   "cell_type": "code",
   "source": "face_descriptor1=facerec.compute_face_descriptor(img,shape)",
   "id": "36539c00eb88a9e5",
   "outputs": [
    {
     "ename": "NameError",
     "evalue": "name 'shape' is not defined",
     "output_type": "error",
     "traceback": [
      "\u001B[1;31m---------------------------------------------------------------------------\u001B[0m",
      "\u001B[1;31mNameError\u001B[0m                                 Traceback (most recent call last)",
      "Cell \u001B[1;32mIn[35], line 1\u001B[0m\n\u001B[1;32m----> 1\u001B[0m face_descriptor1\u001B[38;5;241m=\u001B[39mfacerec\u001B[38;5;241m.\u001B[39mcompute_face_descriptor(img,\u001B[43mshape\u001B[49m)\n",
      "\u001B[1;31mNameError\u001B[0m: name 'shape' is not defined"
     ]
    }
   ],
   "execution_count": 35
  },
  {
   "metadata": {
    "ExecuteTime": {
     "end_time": "2025-02-17T09:10:36.775133Z",
     "start_time": "2025-02-17T09:10:36.744645Z"
    }
   },
   "cell_type": "code",
   "source": "print(face_descriptor1)",
   "id": "3455daa57080e9f1",
   "outputs": [
    {
     "ename": "NameError",
     "evalue": "name 'face_descriptor1' is not defined",
     "output_type": "error",
     "traceback": [
      "\u001B[1;31m---------------------------------------------------------------------------\u001B[0m",
      "\u001B[1;31mNameError\u001B[0m                                 Traceback (most recent call last)",
      "Cell \u001B[1;32mIn[36], line 1\u001B[0m\n\u001B[1;32m----> 1\u001B[0m \u001B[38;5;28mprint\u001B[39m(\u001B[43mface_descriptor1\u001B[49m)\n",
      "\u001B[1;31mNameError\u001B[0m: name 'face_descriptor1' is not defined"
     ]
    }
   ],
   "execution_count": 36
  },
  {
   "metadata": {
    "ExecuteTime": {
     "end_time": "2025-02-17T09:11:04.361277Z",
     "start_time": "2025-02-17T09:11:04.351399Z"
    }
   },
   "cell_type": "code",
   "source": [
    "img=io.imread(\"old.jpg\")\n",
    "win2=dlib.image_window()\n",
    "win2.clear_overlay()\n",
    "win2.set_image(img)\n",
    "dets_webcam=detector(img, 1)\n",
    "for k,d in enumerate(dets_webcam):\n",
    "    print(\"Detection {}: Left: {} Top: {} Right: {} Bottom: {}\"\n",
    "          .format(k,d.left(),d.top(),d.right(),d.bottom()))\n",
    "    shape=sp(img,d)\n",
    "    win2.clear_overlay()\n",
    "    win2.add_overlay(d)\n",
    "    win2.add_overlay(shape)"
   ],
   "id": "f37de2b31ec74d5d",
   "outputs": [],
   "execution_count": 37
  },
  {
   "metadata": {},
   "cell_type": "code",
   "outputs": [],
   "execution_count": null,
   "source": "face_descriptor2=facerec.compute_face_descriptor(img,shape)",
   "id": "9e658cfe4cba3be9"
  },
  {
   "metadata": {},
   "cell_type": "code",
   "outputs": [],
   "execution_count": null,
   "source": [
    "a=distance.euclidean(face_descriptor1,face_descriptor2)\n",
    "print(a)"
   ],
   "id": "3b69cda1bb7bfc08"
  }
 ],
 "metadata": {
  "kernelspec": {
   "display_name": "Python 3",
   "language": "python",
   "name": "python3"
  },
  "language_info": {
   "codemirror_mode": {
    "name": "ipython",
    "version": 2
   },
   "file_extension": ".py",
   "mimetype": "text/x-python",
   "name": "python",
   "nbconvert_exporter": "python",
   "pygments_lexer": "ipython2",
   "version": "2.7.6"
  }
 },
 "nbformat": 4,
 "nbformat_minor": 5
}
