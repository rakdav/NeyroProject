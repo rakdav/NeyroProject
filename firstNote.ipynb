{
 "cells": [
  {
   "cell_type": "code",
   "id": "initial_id",
   "metadata": {
    "collapsed": true,
    "ExecuteTime": {
     "end_time": "2025-01-20T14:40:42.948436Z",
     "start_time": "2025-01-20T14:40:34.368404Z"
    }
   },
   "source": [
    "import tensorflow as tf\n",
    "from tensorflow import keras\n",
    "import matplotlib.pyplot as plt"
   ],
   "outputs": [],
   "execution_count": 1
  },
  {
   "metadata": {
    "ExecuteTime": {
     "end_time": "2025-01-20T14:41:19.895592Z",
     "start_time": "2025-01-20T14:41:17.313104Z"
    }
   },
   "cell_type": "code",
   "source": "(train_images,train_labels),(test_images,test_labels)=keras.datasets.mnist.load_data()",
   "id": "cc7d4a0cc514e84a",
   "outputs": [
    {
     "name": "stdout",
     "output_type": "stream",
     "text": [
      "Downloading data from https://storage.googleapis.com/tensorflow/tf-keras-datasets/mnist.npz\n",
      "\u001B[1m11490434/11490434\u001B[0m \u001B[32m━━━━━━━━━━━━━━━━━━━━\u001B[0m\u001B[37m\u001B[0m \u001B[1m2s\u001B[0m 0us/step\n"
     ]
    }
   ],
   "execution_count": 2
  },
  {
   "metadata": {
    "ExecuteTime": {
     "end_time": "2025-01-20T14:56:13.581587Z",
     "start_time": "2025-01-20T14:56:13.577631Z"
    }
   },
   "cell_type": "code",
   "source": "train_images=train_images.reshape((60000,28,28,1))",
   "id": "89f4879ab7925b0c",
   "outputs": [],
   "execution_count": 17
  },
  {
   "metadata": {
    "ExecuteTime": {
     "end_time": "2025-01-20T14:56:17.077056Z",
     "start_time": "2025-01-20T14:56:16.880103Z"
    }
   },
   "cell_type": "code",
   "source": "train_images=train_images/255.0",
   "id": "bbce879cc19c0a37",
   "outputs": [],
   "execution_count": 18
  },
  {
   "metadata": {
    "ExecuteTime": {
     "end_time": "2025-01-20T14:56:19.787579Z",
     "start_time": "2025-01-20T14:56:19.783996Z"
    }
   },
   "cell_type": "code",
   "source": "test_images=test_images.reshape((10000,28,28,1))",
   "id": "bb576b7bf38da716",
   "outputs": [],
   "execution_count": 19
  },
  {
   "metadata": {
    "ExecuteTime": {
     "end_time": "2025-01-20T14:56:26.433634Z",
     "start_time": "2025-01-20T14:56:26.383237Z"
    }
   },
   "cell_type": "code",
   "source": "test_images=test_images/255.0",
   "id": "2b4b04aabee2509f",
   "outputs": [],
   "execution_count": 20
  },
  {
   "metadata": {
    "ExecuteTime": {
     "end_time": "2025-01-20T14:56:31.230188Z",
     "start_time": "2025-01-20T14:56:31.130221Z"
    }
   },
   "cell_type": "code",
   "source": [
    "model=keras.Sequential(\n",
    "    [keras.layers.Conv2D(32, kernel_size=(3, 3), activation='relu', input_shape=(28,28,1)),\n",
    "     keras.layers.MaxPooling2D(pool_size=(2, 2)),\n",
    "     keras.layers.Conv2D(64, kernel_size=(3, 3), activation='relu'),\n",
    "     keras.layers.MaxPooling2D(pool_size=(2, 2)),\n",
    "     keras.layers.Conv2D(64, kernel_size=(3, 3), activation='relu'),\n",
    "     keras.layers.Flatten(),\n",
    "     keras.layers.Dense(64, activation='relu'),\n",
    "     keras.layers.Dense(10, activation='softmax')\n",
    "])\n",
    "\n",
    "     "
   ],
   "id": "371fefa49585e9e",
   "outputs": [
    {
     "name": "stderr",
     "output_type": "stream",
     "text": [
      "C:\\Users\\administrator\\tensorflow\\pythonProject1\\.venv\\Lib\\site-packages\\keras\\src\\layers\\convolutional\\base_conv.py:107: UserWarning: Do not pass an `input_shape`/`input_dim` argument to a layer. When using Sequential models, prefer using an `Input(shape)` object as the first layer in the model instead.\n",
      "  super().__init__(activity_regularizer=activity_regularizer, **kwargs)\n"
     ]
    }
   ],
   "execution_count": 21
  }
 ],
 "metadata": {
  "kernelspec": {
   "display_name": "Python 3",
   "language": "python",
   "name": "python3"
  },
  "language_info": {
   "codemirror_mode": {
    "name": "ipython",
    "version": 2
   },
   "file_extension": ".py",
   "mimetype": "text/x-python",
   "name": "python",
   "nbconvert_exporter": "python",
   "pygments_lexer": "ipython2",
   "version": "2.7.6"
  }
 },
 "nbformat": 4,
 "nbformat_minor": 5
}
