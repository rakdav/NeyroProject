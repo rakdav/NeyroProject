{
 "cells": [
  {
   "cell_type": "code",
   "id": "initial_id",
   "metadata": {
    "collapsed": true,
    "ExecuteTime": {
     "end_time": "2025-01-23T17:01:55.999002Z",
     "start_time": "2025-01-23T17:01:55.889982Z"
    }
   },
   "source": [
    "from calendar import error\n",
    "\n",
    "import numpy as np\n",
    "from tensorflow.python.ops.summary_ops_v2 import record_if"
   ],
   "outputs": [],
   "execution_count": 1
  },
  {
   "metadata": {
    "ExecuteTime": {
     "end_time": "2025-01-23T17:02:05.438851Z",
     "start_time": "2025-01-23T17:02:05.412022Z"
    }
   },
   "cell_type": "code",
   "source": [
    "ratings = np.array([\n",
    "    [5,3,0,1],\n",
    "    [4,0,0,1],\n",
    "    [1,1,0,5],\n",
    "    [1,0,0,4],\n",
    "    [0,1,5,4]\n",
    "])\n",
    "ratings"
   ],
   "id": "b73bcfbac100f48c",
   "outputs": [
    {
     "data": {
      "text/plain": [
       "array([[5, 3, 0, 1],\n",
       "       [4, 0, 0, 1],\n",
       "       [1, 1, 0, 5],\n",
       "       [1, 0, 0, 4],\n",
       "       [0, 1, 5, 4]])"
      ]
     },
     "execution_count": 2,
     "metadata": {},
     "output_type": "execute_result"
    }
   ],
   "execution_count": 2
  },
  {
   "metadata": {
    "ExecuteTime": {
     "end_time": "2025-01-23T17:02:37.387511Z",
     "start_time": "2025-01-23T17:02:37.373697Z"
    }
   },
   "cell_type": "code",
   "source": [
    "num_users,num_items=ratings.shape\n",
    "num_users"
   ],
   "id": "ce1a104df04e3821",
   "outputs": [
    {
     "data": {
      "text/plain": [
       "5"
      ]
     },
     "execution_count": 4,
     "metadata": {},
     "output_type": "execute_result"
    }
   ],
   "execution_count": 4
  },
  {
   "metadata": {
    "ExecuteTime": {
     "end_time": "2025-01-23T17:02:49.343223Z",
     "start_time": "2025-01-23T17:02:49.337822Z"
    }
   },
   "cell_type": "code",
   "source": "num_items",
   "id": "4f40a7d48a271783",
   "outputs": [
    {
     "data": {
      "text/plain": [
       "4"
      ]
     },
     "execution_count": 5,
     "metadata": {},
     "output_type": "execute_result"
    }
   ],
   "execution_count": 5
  },
  {
   "metadata": {
    "ExecuteTime": {
     "end_time": "2025-01-23T17:03:57.773520Z",
     "start_time": "2025-01-23T17:03:57.768189Z"
    }
   },
   "cell_type": "code",
   "source": [
    "num_factors=2\n",
    "learning_rate=0.01\n",
    "num_epoches=1000"
   ],
   "id": "7bc182096bd19cd5",
   "outputs": [],
   "execution_count": 6
  },
  {
   "metadata": {
    "ExecuteTime": {
     "end_time": "2025-01-23T17:04:18.403901Z",
     "start_time": "2025-01-23T17:04:18.392058Z"
    }
   },
   "cell_type": "code",
   "source": [
    "user_matrix=np.random.rand(num_users,num_factors)\n",
    "user_matrix"
   ],
   "id": "7f15626ebed782f1",
   "outputs": [
    {
     "data": {
      "text/plain": [
       "array([[0.38431241, 0.43295133],\n",
       "       [0.24859719, 0.05678113],\n",
       "       [0.7375491 , 0.40863122],\n",
       "       [0.74087149, 0.25644672],\n",
       "       [0.28669228, 0.61607248]])"
      ]
     },
     "execution_count": 7,
     "metadata": {},
     "output_type": "execute_result"
    }
   ],
   "execution_count": 7
  },
  {
   "metadata": {
    "ExecuteTime": {
     "end_time": "2025-01-23T17:04:53.292958Z",
     "start_time": "2025-01-23T17:04:53.272133Z"
    }
   },
   "cell_type": "code",
   "source": [
    "item_matrix=np.random.rand(num_factors,num_items)\n",
    "item_matrix"
   ],
   "id": "4ee3c0611004c51e",
   "outputs": [
    {
     "data": {
      "text/plain": [
       "array([[0.0208154 , 0.7782876 , 0.99304363, 0.03297582],\n",
       "       [0.70514031, 0.5080225 , 0.06693026, 0.81025629]])"
      ]
     },
     "execution_count": 8,
     "metadata": {},
     "output_type": "execute_result"
    }
   ],
   "execution_count": 8
  },
  {
   "metadata": {
    "ExecuteTime": {
     "end_time": "2025-01-23T17:11:54.167173Z",
     "start_time": "2025-01-23T17:11:53.928180Z"
    }
   },
   "cell_type": "code",
   "source": [
    "for epoch in range(num_epoches):\n",
    "    for i in range(num_users):\n",
    "        for j in range(num_items):\n",
    "            if ratings[i][j]>0:\n",
    "                error=ratings[i][j]-np.dot(user_matrix[i,:],item_matrix[:,j])\n",
    "                user_matrix[i,:]+=learning_rate*(error*item_matrix[:,j])\n",
    "                item_matrix[:,j]+=learning_rate*(error*user_matrix[i,:])\n",
    "predicted_ratings=np.dot(user_matrix,item_matrix)            "
   ],
   "id": "8b1024def92072dc",
   "outputs": [],
   "execution_count": 9
  },
  {
   "metadata": {
    "ExecuteTime": {
     "end_time": "2025-01-23T17:12:41.673943Z",
     "start_time": "2025-01-23T17:12:41.662358Z"
    }
   },
   "cell_type": "code",
   "source": [
    "recommended_items=[]\n",
    "for i in range(num_users):\n",
    "    recommended_items.append(np.argsort(predicted_ratings[i])[::-1])"
   ],
   "id": "f48ec7eebbc8f0ab",
   "outputs": [],
   "execution_count": 11
  },
  {
   "metadata": {
    "ExecuteTime": {
     "end_time": "2025-01-23T17:12:48.950091Z",
     "start_time": "2025-01-23T17:12:48.942482Z"
    }
   },
   "cell_type": "code",
   "source": "recommended_items",
   "id": "d28f7a301ab9ca4e",
   "outputs": [
    {
     "data": {
      "text/plain": [
       "[array([0, 1, 2, 3]),\n",
       " array([0, 2, 1, 3]),\n",
       " array([2, 3, 0, 1]),\n",
       " array([2, 3, 0, 1]),\n",
       " array([2, 3, 0, 1])]"
      ]
     },
     "execution_count": 12,
     "metadata": {},
     "output_type": "execute_result"
    }
   ],
   "execution_count": 12
  }
 ],
 "metadata": {
  "kernelspec": {
   "display_name": "Python 3",
   "language": "python",
   "name": "python3"
  },
  "language_info": {
   "codemirror_mode": {
    "name": "ipython",
    "version": 2
   },
   "file_extension": ".py",
   "mimetype": "text/x-python",
   "name": "python",
   "nbconvert_exporter": "python",
   "pygments_lexer": "ipython2",
   "version": "2.7.6"
  }
 },
 "nbformat": 4,
 "nbformat_minor": 5
}
